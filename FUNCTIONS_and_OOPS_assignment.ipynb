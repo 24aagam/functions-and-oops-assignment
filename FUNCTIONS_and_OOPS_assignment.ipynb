{
  "nbformat": 4,
  "nbformat_minor": 0,
  "metadata": {
    "colab": {
      "provenance": []
    },
    "kernelspec": {
      "name": "python3",
      "display_name": "Python 3"
    },
    "language_info": {
      "name": "python"
    }
  },
  "cells": [
    {
      "cell_type": "markdown",
      "source": [
        "# 1. Explain the importance of Function.\n",
        "\n",
        "**Ans:**                                                                     \n",
        "                                                                             \n",
        "                                                                              \n",
        "    1. Simplifying Tasks: Functions are like helpers that you can create to do specific jobs. Instead of writing the same code again and again,\n",
        "                               you can make a function to do it once. This makes your program shorter and easier to understand.\n",
        "\n",
        "    2. Keeping Things Organized: In a big program, there can be lots of code. Functions help keep things organized. You give each job a name and  \n",
        "                                 put the code for that job inside the function. So, you know where to find things.\n",
        "    \n",
        "    3. Reusability: Once you create a function, you can use it in different parts of your program whenever you need that job done. This saves time,\n",
        "                    reduces mistakes, and makes your code more efficient.\n",
        "\n",
        "    4. Collaboration: When working with others, functions make it easier to share and understand the code.You can tell your fellow developers,           \n",
        "                    \"Use this function to do that task,\" and they'll understand what it does.\n",
        "\n"
      ],
      "metadata": {
        "id": "G9IDclFAa4LF"
      }
    },
    {
      "cell_type": "markdown",
      "source": [
        "# 2. Write a basic function to greet students"
      ],
      "metadata": {
        "id": "S-70VCN7j00S"
      }
    },
    {
      "cell_type": "code",
      "source": [
        "def greet():\n",
        "    print(\"Hello students\")\n",
        "\n",
        "greet()"
      ],
      "metadata": {
        "colab": {
          "base_uri": "https://localhost:8080/"
        },
        "id": "GBb6XIiMdy7C",
        "outputId": "e4d3904b-30d2-4339-9e03-b31d629c1930"
      },
      "execution_count": null,
      "outputs": [
        {
          "output_type": "stream",
          "name": "stdout",
          "text": [
            "Hello students\n"
          ]
        }
      ]
    },
    {
      "cell_type": "markdown",
      "source": [
        "# 3. What is the difference between print and return statements?\n",
        "\n",
        "**Ans:**\n",
        "\n",
        "    Difference between print and return statements are as follow:\n",
        "\n",
        "     -> Print: The \"print()\" function is a statement that is used to print the output to the console. It will print the output, but it will not allow\n",
        "               you to store that output for further purposes.\n",
        "      \n",
        "     -> Return: On the other hand, return is returning a value to you so that it will allow you to use that value further in your function or code.\n",
        "                The return function is used to terminate the execution of a function and return a value indicating whether the function was called.\n"
      ],
      "metadata": {
        "id": "JmyzSg9iiGtS"
      }
    },
    {
      "cell_type": "markdown",
      "source": [
        "# 4. What are **agrs and* **kwagrs?\n",
        "\n",
        "**Ans:**\n",
        "\n",
        "    *agrs and **kwagrs are variable length arguments. The arguments passed with *agrs are treated as a tuple. And, the arguments passed with\n",
        "    **kwargs are treated as a dictionary."
      ],
      "metadata": {
        "id": "_d2nj989kMV7"
      }
    },
    {
      "cell_type": "markdown",
      "source": [
        "# 5. Explain the iterator.\n",
        "\n",
        "**Ans:**\n",
        "\n",
        "    In Python, iterator is an object that is used to  iterate over iterable objects like lists, tuples, sets, and dicts. The iterator object is\n",
        "    initialized using the 'iter()' method. It uses the 'next()' method for iteration."
      ],
      "metadata": {
        "id": "x2cBvZX6mBHw"
      }
    },
    {
      "cell_type": "markdown",
      "source": [
        "# 6. Write a code that generates the squares of numbers from 1 to n using a generator."
      ],
      "metadata": {
        "id": "cPaeD_clna9p"
      }
    },
    {
      "cell_type": "code",
      "source": [
        "def squares(n):\n",
        "  for i in range(1, n):\n",
        "      yield i ** 2"
      ],
      "metadata": {
        "id": "XlnEvmZ7jNpc"
      },
      "execution_count": null,
      "outputs": []
    },
    {
      "cell_type": "code",
      "source": [
        "gen = squares(10)"
      ],
      "metadata": {
        "id": "-WaBxBYuoXvi"
      },
      "execution_count": null,
      "outputs": []
    },
    {
      "cell_type": "code",
      "source": [
        "gen"
      ],
      "metadata": {
        "colab": {
          "base_uri": "https://localhost:8080/"
        },
        "id": "d5-p1IlSqik8",
        "outputId": "5088b1bf-cfa3-46f5-a12d-84f33d6c95a2"
      },
      "execution_count": null,
      "outputs": [
        {
          "output_type": "execute_result",
          "data": {
            "text/plain": [
              "<generator object squares at 0x7ed0644b3ca0>"
            ]
          },
          "metadata": {},
          "execution_count": 20
        }
      ]
    },
    {
      "cell_type": "code",
      "source": [
        "next(gen)"
      ],
      "metadata": {
        "colab": {
          "base_uri": "https://localhost:8080/"
        },
        "id": "zdPjhWOPpZ58",
        "outputId": "8ff58036-294e-41f9-ca87-c8098c94db26"
      },
      "execution_count": null,
      "outputs": [
        {
          "output_type": "execute_result",
          "data": {
            "text/plain": [
              "1"
            ]
          },
          "metadata": {},
          "execution_count": 21
        }
      ]
    },
    {
      "cell_type": "code",
      "source": [
        "next(gen)"
      ],
      "metadata": {
        "colab": {
          "base_uri": "https://localhost:8080/"
        },
        "id": "gAYltdBxqxZf",
        "outputId": "da064fcd-acfd-4588-e062-e60d1e3ebe02"
      },
      "execution_count": null,
      "outputs": [
        {
          "output_type": "execute_result",
          "data": {
            "text/plain": [
              "4"
            ]
          },
          "metadata": {},
          "execution_count": 22
        }
      ]
    },
    {
      "cell_type": "code",
      "source": [
        "next(gen)"
      ],
      "metadata": {
        "colab": {
          "base_uri": "https://localhost:8080/"
        },
        "id": "IYTGBH4BrC0E",
        "outputId": "48e475e6-bd28-439b-b067-da76cd047e15"
      },
      "execution_count": null,
      "outputs": [
        {
          "output_type": "execute_result",
          "data": {
            "text/plain": [
              "9"
            ]
          },
          "metadata": {},
          "execution_count": 23
        }
      ]
    },
    {
      "cell_type": "markdown",
      "source": [
        "# 7. Write a code that generates palindromic numbers up to n using a generator."
      ],
      "metadata": {
        "id": "-pC93tBWrkbH"
      }
    },
    {
      "cell_type": "code",
      "source": [
        "def palin(num):\n",
        "\n",
        "    for i in range(num):\n",
        "        print(i)\n",
        "        n = str(i)\n",
        "        reverse = n[::-1]\n",
        "        yield i ==int(reverse)\n"
      ],
      "metadata": {
        "id": "2iTnAuKCsD2L"
      },
      "execution_count": null,
      "outputs": []
    },
    {
      "cell_type": "code",
      "source": [
        "gen = palin(12)"
      ],
      "metadata": {
        "id": "xkucrkD_dcU-"
      },
      "execution_count": null,
      "outputs": []
    },
    {
      "cell_type": "code",
      "source": [
        "next(gen)"
      ],
      "metadata": {
        "colab": {
          "base_uri": "https://localhost:8080/"
        },
        "id": "iw1VAnwmdkTt",
        "outputId": "9f3ce74d-130b-4aaa-d37f-ce35a68ebf1a"
      },
      "execution_count": null,
      "outputs": [
        {
          "output_type": "stream",
          "name": "stdout",
          "text": [
            "0\n"
          ]
        },
        {
          "output_type": "execute_result",
          "data": {
            "text/plain": [
              "True"
            ]
          },
          "metadata": {},
          "execution_count": 3
        }
      ]
    },
    {
      "cell_type": "code",
      "source": [
        "next(gen)"
      ],
      "metadata": {
        "colab": {
          "base_uri": "https://localhost:8080/"
        },
        "id": "EcN9fEgldqLI",
        "outputId": "704ef959-b991-4790-dbdb-6485a67962e0"
      },
      "execution_count": null,
      "outputs": [
        {
          "output_type": "stream",
          "name": "stdout",
          "text": [
            "1\n"
          ]
        },
        {
          "output_type": "execute_result",
          "data": {
            "text/plain": [
              "True"
            ]
          },
          "metadata": {},
          "execution_count": 4
        }
      ]
    },
    {
      "cell_type": "code",
      "source": [
        "next(gen)"
      ],
      "metadata": {
        "colab": {
          "base_uri": "https://localhost:8080/"
        },
        "id": "aFnnCNJSdr9u",
        "outputId": "878b2b98-7f57-47c7-ef74-676682297870"
      },
      "execution_count": null,
      "outputs": [
        {
          "output_type": "stream",
          "name": "stdout",
          "text": [
            "2\n"
          ]
        },
        {
          "output_type": "execute_result",
          "data": {
            "text/plain": [
              "True"
            ]
          },
          "metadata": {},
          "execution_count": 5
        }
      ]
    },
    {
      "cell_type": "code",
      "source": [
        "next(gen)"
      ],
      "metadata": {
        "colab": {
          "base_uri": "https://localhost:8080/"
        },
        "id": "eC4kiaE3du7b",
        "outputId": "64233b89-738f-40d0-b8e3-d5d72ee2d5ac"
      },
      "execution_count": null,
      "outputs": [
        {
          "output_type": "stream",
          "name": "stdout",
          "text": [
            "3\n"
          ]
        },
        {
          "output_type": "execute_result",
          "data": {
            "text/plain": [
              "True"
            ]
          },
          "metadata": {},
          "execution_count": 6
        }
      ]
    },
    {
      "cell_type": "code",
      "source": [
        "next(gen)"
      ],
      "metadata": {
        "colab": {
          "base_uri": "https://localhost:8080/"
        },
        "id": "mRsQbdjhdwy3",
        "outputId": "d734b5a2-c20c-46cd-cdee-c64e7bb372c8"
      },
      "execution_count": null,
      "outputs": [
        {
          "output_type": "stream",
          "name": "stdout",
          "text": [
            "4\n"
          ]
        },
        {
          "output_type": "execute_result",
          "data": {
            "text/plain": [
              "True"
            ]
          },
          "metadata": {},
          "execution_count": 7
        }
      ]
    },
    {
      "cell_type": "markdown",
      "source": [
        "# 8. Write a code that generates even numbers from 2 to n using a generator."
      ],
      "metadata": {
        "id": "-7zNDXNDx94F"
      }
    },
    {
      "cell_type": "code",
      "source": [
        "def even(num):\n",
        "    for i in range(2, num):\n",
        "      print(i)\n",
        "      yield i % 2 == 0"
      ],
      "metadata": {
        "id": "_WGicZhVyRcq"
      },
      "execution_count": null,
      "outputs": []
    },
    {
      "cell_type": "code",
      "source": [
        "gen = even(10)"
      ],
      "metadata": {
        "id": "iIxhMlJ7ygtU"
      },
      "execution_count": null,
      "outputs": []
    },
    {
      "cell_type": "code",
      "source": [
        "next(gen)"
      ],
      "metadata": {
        "colab": {
          "base_uri": "https://localhost:8080/"
        },
        "id": "E-fM7_YiykWa",
        "outputId": "c19b5aae-6638-4516-cf7d-d4d920ec2754"
      },
      "execution_count": null,
      "outputs": [
        {
          "output_type": "stream",
          "name": "stdout",
          "text": [
            "2\n"
          ]
        },
        {
          "output_type": "execute_result",
          "data": {
            "text/plain": [
              "True"
            ]
          },
          "metadata": {},
          "execution_count": 57
        }
      ]
    },
    {
      "cell_type": "code",
      "source": [
        "next(gen)"
      ],
      "metadata": {
        "colab": {
          "base_uri": "https://localhost:8080/"
        },
        "id": "DJxU-qDayp0A",
        "outputId": "bc3856ed-df60-45df-9623-f4b0505e5b36"
      },
      "execution_count": null,
      "outputs": [
        {
          "output_type": "stream",
          "name": "stdout",
          "text": [
            "3\n"
          ]
        },
        {
          "output_type": "execute_result",
          "data": {
            "text/plain": [
              "False"
            ]
          },
          "metadata": {},
          "execution_count": 50
        }
      ]
    },
    {
      "cell_type": "code",
      "source": [
        "next(gen)"
      ],
      "metadata": {
        "colab": {
          "base_uri": "https://localhost:8080/"
        },
        "id": "JT27lPhdyunV",
        "outputId": "9a1657b3-10c0-4772-df0e-080fcbe8d945"
      },
      "execution_count": null,
      "outputs": [
        {
          "output_type": "stream",
          "name": "stdout",
          "text": [
            "4\n"
          ]
        },
        {
          "output_type": "execute_result",
          "data": {
            "text/plain": [
              "True"
            ]
          },
          "metadata": {},
          "execution_count": 51
        }
      ]
    },
    {
      "cell_type": "markdown",
      "source": [
        "# 9. Write a code that generates powers of two up to n using a generator."
      ],
      "metadata": {
        "id": "4NlIT3C4UdL9"
      }
    },
    {
      "cell_type": "code",
      "source": [
        "def power(num):\n",
        "   for i in range(num):\n",
        "      yield i**2"
      ],
      "metadata": {
        "id": "ofKsskBwU1fj"
      },
      "execution_count": null,
      "outputs": []
    },
    {
      "cell_type": "code",
      "source": [
        "gen = power(10)"
      ],
      "metadata": {
        "id": "vRA8klMrVQIr"
      },
      "execution_count": null,
      "outputs": []
    },
    {
      "cell_type": "code",
      "source": [
        "next(gen)"
      ],
      "metadata": {
        "colab": {
          "base_uri": "https://localhost:8080/"
        },
        "id": "9xqXSU56VrF6",
        "outputId": "6e818694-bde0-45e4-9115-44d688832054"
      },
      "execution_count": null,
      "outputs": [
        {
          "output_type": "execute_result",
          "data": {
            "text/plain": [
              "0"
            ]
          },
          "metadata": {},
          "execution_count": 10
        }
      ]
    },
    {
      "cell_type": "code",
      "source": [
        "next(gen)"
      ],
      "metadata": {
        "colab": {
          "base_uri": "https://localhost:8080/"
        },
        "id": "gZULASh5VtZM",
        "outputId": "dee5a4a3-75f4-403b-8dea-00adf22b365f"
      },
      "execution_count": null,
      "outputs": [
        {
          "output_type": "execute_result",
          "data": {
            "text/plain": [
              "1"
            ]
          },
          "metadata": {},
          "execution_count": 11
        }
      ]
    },
    {
      "cell_type": "code",
      "source": [
        "next(gen)"
      ],
      "metadata": {
        "colab": {
          "base_uri": "https://localhost:8080/"
        },
        "id": "hlm8i8x8VviI",
        "outputId": "80fc6ab9-9a5a-4da2-d7a6-9ec734e33043"
      },
      "execution_count": null,
      "outputs": [
        {
          "output_type": "execute_result",
          "data": {
            "text/plain": [
              "4"
            ]
          },
          "metadata": {},
          "execution_count": 12
        }
      ]
    },
    {
      "cell_type": "code",
      "source": [
        "next(gen)"
      ],
      "metadata": {
        "colab": {
          "base_uri": "https://localhost:8080/"
        },
        "id": "4FxxDulBeVSr",
        "outputId": "49ad7071-86a0-4293-c872-4c5602af4a04"
      },
      "execution_count": null,
      "outputs": [
        {
          "output_type": "execute_result",
          "data": {
            "text/plain": [
              "9"
            ]
          },
          "metadata": {},
          "execution_count": 13
        }
      ]
    },
    {
      "cell_type": "code",
      "source": [
        "next(gen)"
      ],
      "metadata": {
        "colab": {
          "base_uri": "https://localhost:8080/"
        },
        "id": "6yyTCoMFeXfB",
        "outputId": "a7de7751-b97f-4ed8-eb06-4a2477c847ae"
      },
      "execution_count": null,
      "outputs": [
        {
          "output_type": "execute_result",
          "data": {
            "text/plain": [
              "16"
            ]
          },
          "metadata": {},
          "execution_count": 14
        }
      ]
    },
    {
      "cell_type": "markdown",
      "source": [
        "# 10. Write a code that generates prime numbers up to n using a generator."
      ],
      "metadata": {
        "id": "U_mCemwQV4BW"
      }
    },
    {
      "cell_type": "code",
      "source": [
        "def prime(num):\n",
        "        if num in [2,3]:\n",
        "           return True\n",
        "\n",
        "        elif (num==1) or (num % 2 == 0):\n",
        "               return False\n",
        "\n",
        "        else:\n",
        "           n = 3\n",
        "           while n * n <= num:\n",
        "                return False\n",
        "                n += 2\n",
        "           return True"
      ],
      "metadata": {
        "id": "zmX24RsnWM3l"
      },
      "execution_count": null,
      "outputs": []
    },
    {
      "cell_type": "code",
      "source": [
        "def is_prime(num):\n",
        "    for i in range(num):\n",
        "        yield f\"{i}:{prime(i)}\""
      ],
      "metadata": {
        "id": "wKImWNs_l_Gc"
      },
      "execution_count": null,
      "outputs": []
    },
    {
      "cell_type": "code",
      "source": [
        "gen = is_prime(10)"
      ],
      "metadata": {
        "id": "V1O5QXy-Xx8F"
      },
      "execution_count": null,
      "outputs": []
    },
    {
      "cell_type": "code",
      "source": [
        "next(gen)"
      ],
      "metadata": {
        "colab": {
          "base_uri": "https://localhost:8080/",
          "height": 35
        },
        "id": "G2QSW5D2gLAg",
        "outputId": "be2a6a0e-61d9-431f-f357-16b31593dd38"
      },
      "execution_count": null,
      "outputs": [
        {
          "output_type": "execute_result",
          "data": {
            "text/plain": [
              "'0:False'"
            ],
            "application/vnd.google.colaboratory.intrinsic+json": {
              "type": "string"
            }
          },
          "metadata": {},
          "execution_count": 146
        }
      ]
    },
    {
      "cell_type": "code",
      "source": [
        "next(gen)"
      ],
      "metadata": {
        "colab": {
          "base_uri": "https://localhost:8080/",
          "height": 35
        },
        "id": "480UVsAGgQvG",
        "outputId": "671f4ca6-220e-4b93-c738-ffd877441016"
      },
      "execution_count": null,
      "outputs": [
        {
          "output_type": "execute_result",
          "data": {
            "text/plain": [
              "'1:False'"
            ],
            "application/vnd.google.colaboratory.intrinsic+json": {
              "type": "string"
            }
          },
          "metadata": {},
          "execution_count": 147
        }
      ]
    },
    {
      "cell_type": "code",
      "source": [
        "next(gen)"
      ],
      "metadata": {
        "colab": {
          "base_uri": "https://localhost:8080/",
          "height": 35
        },
        "id": "ZwP5g1iLgTZZ",
        "outputId": "af4dda8d-63f5-4b49-e023-d7c326cfe9ed"
      },
      "execution_count": null,
      "outputs": [
        {
          "output_type": "execute_result",
          "data": {
            "text/plain": [
              "'2:True'"
            ],
            "application/vnd.google.colaboratory.intrinsic+json": {
              "type": "string"
            }
          },
          "metadata": {},
          "execution_count": 148
        }
      ]
    },
    {
      "cell_type": "code",
      "source": [
        "next(gen)"
      ],
      "metadata": {
        "colab": {
          "base_uri": "https://localhost:8080/",
          "height": 35
        },
        "id": "rECAeF2RgVpR",
        "outputId": "a7e5bd00-30b0-4f67-f814-7f7a421565b3"
      },
      "execution_count": null,
      "outputs": [
        {
          "output_type": "execute_result",
          "data": {
            "text/plain": [
              "'3:True'"
            ],
            "application/vnd.google.colaboratory.intrinsic+json": {
              "type": "string"
            }
          },
          "metadata": {},
          "execution_count": 149
        }
      ]
    },
    {
      "cell_type": "code",
      "source": [
        "next(gen)"
      ],
      "metadata": {
        "colab": {
          "base_uri": "https://localhost:8080/",
          "height": 35
        },
        "id": "CF9SoMgggYWQ",
        "outputId": "cd9d45f6-6655-4dec-b340-df4a2d316847"
      },
      "execution_count": null,
      "outputs": [
        {
          "output_type": "execute_result",
          "data": {
            "text/plain": [
              "'4:False'"
            ],
            "application/vnd.google.colaboratory.intrinsic+json": {
              "type": "string"
            }
          },
          "metadata": {},
          "execution_count": 150
        }
      ]
    },
    {
      "cell_type": "code",
      "source": [
        "next(gen)"
      ],
      "metadata": {
        "colab": {
          "base_uri": "https://localhost:8080/",
          "height": 35
        },
        "id": "Rron2OB_gbLi",
        "outputId": "75b06515-1dd3-47f7-9a82-6b2afa670904"
      },
      "execution_count": null,
      "outputs": [
        {
          "output_type": "execute_result",
          "data": {
            "text/plain": [
              "'5:True'"
            ],
            "application/vnd.google.colaboratory.intrinsic+json": {
              "type": "string"
            }
          },
          "metadata": {},
          "execution_count": 151
        }
      ]
    },
    {
      "cell_type": "code",
      "source": [
        "next(gen)"
      ],
      "metadata": {
        "colab": {
          "base_uri": "https://localhost:8080/",
          "height": 35
        },
        "id": "0nrFtl52nEtP",
        "outputId": "a6440545-29ce-4dfa-afbb-11fb0dfe3395"
      },
      "execution_count": null,
      "outputs": [
        {
          "output_type": "execute_result",
          "data": {
            "text/plain": [
              "'6:False'"
            ],
            "application/vnd.google.colaboratory.intrinsic+json": {
              "type": "string"
            }
          },
          "metadata": {},
          "execution_count": 152
        }
      ]
    },
    {
      "cell_type": "code",
      "source": [
        "next(gen)"
      ],
      "metadata": {
        "colab": {
          "base_uri": "https://localhost:8080/",
          "height": 35
        },
        "id": "oQigNU5EnOHC",
        "outputId": "8b419dfe-125f-4043-aa60-4c48b1719a67"
      },
      "execution_count": null,
      "outputs": [
        {
          "output_type": "execute_result",
          "data": {
            "text/plain": [
              "'7:True'"
            ],
            "application/vnd.google.colaboratory.intrinsic+json": {
              "type": "string"
            }
          },
          "metadata": {},
          "execution_count": 153
        }
      ]
    },
    {
      "cell_type": "code",
      "source": [
        "next(gen)"
      ],
      "metadata": {
        "colab": {
          "base_uri": "https://localhost:8080/",
          "height": 35
        },
        "id": "azoadL9xnQ8i",
        "outputId": "8e215494-4727-4ec4-803e-0a82013d38b9"
      },
      "execution_count": null,
      "outputs": [
        {
          "output_type": "execute_result",
          "data": {
            "text/plain": [
              "'8:False'"
            ],
            "application/vnd.google.colaboratory.intrinsic+json": {
              "type": "string"
            }
          },
          "metadata": {},
          "execution_count": 154
        }
      ]
    },
    {
      "cell_type": "code",
      "source": [
        "next(gen)"
      ],
      "metadata": {
        "colab": {
          "base_uri": "https://localhost:8080/",
          "height": 35
        },
        "id": "z9UTsemCnSX9",
        "outputId": "0f8db48c-90d3-4b27-ec43-0d246019a86f"
      },
      "execution_count": null,
      "outputs": [
        {
          "output_type": "execute_result",
          "data": {
            "text/plain": [
              "'9:False'"
            ],
            "application/vnd.google.colaboratory.intrinsic+json": {
              "type": "string"
            }
          },
          "metadata": {},
          "execution_count": 155
        }
      ]
    },
    {
      "cell_type": "markdown",
      "source": [
        "# 11. Write a code that uses a lambda function to calculate the sum of two numbers."
      ],
      "metadata": {
        "id": "PMkcFZDfb8zV"
      }
    },
    {
      "cell_type": "code",
      "source": [
        "sum = lambda x, y : x + y"
      ],
      "metadata": {
        "id": "A73rJOSpcsG6"
      },
      "execution_count": null,
      "outputs": []
    },
    {
      "cell_type": "code",
      "source": [
        "sum(3, 4)"
      ],
      "metadata": {
        "colab": {
          "base_uri": "https://localhost:8080/"
        },
        "id": "kbi__tzSdiAp",
        "outputId": "7efcf02d-b505-4481-a8e5-da6aa11ae5e1"
      },
      "execution_count": null,
      "outputs": [
        {
          "output_type": "execute_result",
          "data": {
            "text/plain": [
              "7"
            ]
          },
          "metadata": {},
          "execution_count": 48
        }
      ]
    },
    {
      "cell_type": "markdown",
      "source": [
        "#12. Write a code that uses a lambda function to calculate the square of a given number."
      ],
      "metadata": {
        "id": "DZCDou9idwm-"
      }
    },
    {
      "cell_type": "code",
      "source": [
        "square = lambda x: x**2"
      ],
      "metadata": {
        "id": "mnYljPMuei1l"
      },
      "execution_count": null,
      "outputs": []
    },
    {
      "cell_type": "code",
      "source": [
        "square(3)"
      ],
      "metadata": {
        "colab": {
          "base_uri": "https://localhost:8080/"
        },
        "id": "o1pkpk5PexBz",
        "outputId": "2c784dda-ec49-41bd-956c-1ec7ee0e0a06"
      },
      "execution_count": null,
      "outputs": [
        {
          "output_type": "execute_result",
          "data": {
            "text/plain": [
              "9"
            ]
          },
          "metadata": {},
          "execution_count": 50
        }
      ]
    },
    {
      "cell_type": "markdown",
      "source": [
        "#13. Write a code that uses a lambda function to check whether a given number even or odd"
      ],
      "metadata": {
        "id": "Unyolamce2Xn"
      }
    },
    {
      "cell_type": "code",
      "source": [
        "even_or_odd = lambda x : 'even' if x % 2 == 0 else 'odd'"
      ],
      "metadata": {
        "id": "CVqzpbw8fNHZ"
      },
      "execution_count": null,
      "outputs": []
    },
    {
      "cell_type": "code",
      "source": [
        "even_or_odd(4)"
      ],
      "metadata": {
        "colab": {
          "base_uri": "https://localhost:8080/",
          "height": 36
        },
        "id": "3KBlDcrnflAw",
        "outputId": "6e207b97-8256-42ef-a922-0720b8636aee"
      },
      "execution_count": null,
      "outputs": [
        {
          "output_type": "execute_result",
          "data": {
            "text/plain": [
              "'even'"
            ],
            "application/vnd.google.colaboratory.intrinsic+json": {
              "type": "string"
            }
          },
          "metadata": {},
          "execution_count": 59
        }
      ]
    },
    {
      "cell_type": "markdown",
      "source": [
        "# 14. Write a code that uses a lambda function to concatenate two string"
      ],
      "metadata": {
        "id": "O6UkEDeif6_G"
      }
    },
    {
      "cell_type": "code",
      "source": [
        "concat_string = lambda x, y : x + y"
      ],
      "metadata": {
        "id": "dtQfJJU1gQbL"
      },
      "execution_count": null,
      "outputs": []
    },
    {
      "cell_type": "code",
      "source": [
        "concat_string('Aagam', ' Shah')"
      ],
      "metadata": {
        "colab": {
          "base_uri": "https://localhost:8080/",
          "height": 36
        },
        "id": "LViKTmcwgg_8",
        "outputId": "f6ddf2c8-cafd-45d4-ca88-864257aa9dc7"
      },
      "execution_count": null,
      "outputs": [
        {
          "output_type": "execute_result",
          "data": {
            "text/plain": [
              "'Aagam Shah'"
            ],
            "application/vnd.google.colaboratory.intrinsic+json": {
              "type": "string"
            }
          },
          "metadata": {},
          "execution_count": 62
        }
      ]
    },
    {
      "cell_type": "markdown",
      "source": [
        "# 15. Write a code that uses a lambda function to find the maximum of three given numbers."
      ],
      "metadata": {
        "id": "1snxF-wVhQ1Y"
      }
    },
    {
      "cell_type": "code",
      "source": [
        "maximum = lambda x, y, z: x if x > y and x > z else y if y > x and y > z else z"
      ],
      "metadata": {
        "id": "FjU3cLzJhmdq"
      },
      "execution_count": null,
      "outputs": []
    },
    {
      "cell_type": "code",
      "source": [
        "maximum(12, 34, 35)"
      ],
      "metadata": {
        "colab": {
          "base_uri": "https://localhost:8080/"
        },
        "id": "UWKIy09vh71B",
        "outputId": "4733ff95-ab13-4a71-c603-45594d301c4e"
      },
      "execution_count": null,
      "outputs": [
        {
          "output_type": "execute_result",
          "data": {
            "text/plain": [
              "35"
            ]
          },
          "metadata": {},
          "execution_count": 108
        }
      ]
    },
    {
      "cell_type": "code",
      "source": [
        "maximum(12, 35, 34)"
      ],
      "metadata": {
        "colab": {
          "base_uri": "https://localhost:8080/"
        },
        "id": "XYuWd7pJjD0n",
        "outputId": "66208d9b-e8bd-4c1e-de66-ec01c57f9256"
      },
      "execution_count": null,
      "outputs": [
        {
          "output_type": "execute_result",
          "data": {
            "text/plain": [
              "35"
            ]
          },
          "metadata": {},
          "execution_count": 109
        }
      ]
    },
    {
      "cell_type": "code",
      "source": [
        "maximum(49, 10, 100)"
      ],
      "metadata": {
        "id": "QYHDQMZ0jPDu",
        "colab": {
          "base_uri": "https://localhost:8080/"
        },
        "outputId": "73a4e374-6969-4f4f-aec5-4aec4a62c507"
      },
      "execution_count": null,
      "outputs": [
        {
          "output_type": "execute_result",
          "data": {
            "text/plain": [
              "100"
            ]
          },
          "metadata": {},
          "execution_count": 110
        }
      ]
    },
    {
      "cell_type": "markdown",
      "source": [
        "# 16. Write a code that generates the squares of even numbers from a given list."
      ],
      "metadata": {
        "id": "9-ENl7rUByKj"
      }
    },
    {
      "cell_type": "code",
      "source": [
        "def squ_of_even(num):\n",
        "    return [i**2 for i in num if i % 2 == 0]"
      ],
      "metadata": {
        "id": "sl81EliOCRo_"
      },
      "execution_count": null,
      "outputs": []
    },
    {
      "cell_type": "code",
      "source": [
        "lis = [1,2,3,4,5,6,7,8,9,10]\n",
        "squ_of_even(lis)"
      ],
      "metadata": {
        "colab": {
          "base_uri": "https://localhost:8080/"
        },
        "id": "mee27svnCcEm",
        "outputId": "85ba6ad5-6e6e-46d2-dbd0-e15bad5b3f79"
      },
      "execution_count": null,
      "outputs": [
        {
          "output_type": "execute_result",
          "data": {
            "text/plain": [
              "[4, 16, 36, 64, 100]"
            ]
          },
          "metadata": {},
          "execution_count": 13
        }
      ]
    },
    {
      "cell_type": "markdown",
      "source": [
        "# 17. Write a code that calculates the product of positive numbers from a given list."
      ],
      "metadata": {
        "id": "vcc8VNK7HGo4"
      }
    },
    {
      "cell_type": "code",
      "source": [
        "def product(num):\n",
        "\n",
        "    result = 1\n",
        "\n",
        "    for i in num:\n",
        "       result *= i\n",
        "\n",
        "    return result"
      ],
      "metadata": {
        "id": "e10iQoS7HPBI"
      },
      "execution_count": null,
      "outputs": []
    },
    {
      "cell_type": "code",
      "source": [
        "num = [1,2,3,4,5,6,7,8,9,10]\n",
        "product(num)"
      ],
      "metadata": {
        "colab": {
          "base_uri": "https://localhost:8080/"
        },
        "id": "dk39ZEU6HxNa",
        "outputId": "1ba7f205-fd7a-44fe-8025-e2ee98bd5b56"
      },
      "execution_count": null,
      "outputs": [
        {
          "output_type": "execute_result",
          "data": {
            "text/plain": [
              "3628800"
            ]
          },
          "metadata": {},
          "execution_count": 26
        }
      ]
    },
    {
      "cell_type": "markdown",
      "source": [
        "# 18. Write a code that doubles the values of odd numbers from a given list."
      ],
      "metadata": {
        "id": "mNfEAUilJRoL"
      }
    },
    {
      "cell_type": "code",
      "source": [
        "def doubles_odd(num):\n",
        "    return [i**2 for i in num if i % 2 != 0]"
      ],
      "metadata": {
        "id": "-A-6nGk2JmRI"
      },
      "execution_count": null,
      "outputs": []
    },
    {
      "cell_type": "code",
      "source": [
        "num = [1,2,3,4,5,6,7,8,9,10]\n",
        "\n",
        "doubles_odd(num)"
      ],
      "metadata": {
        "colab": {
          "base_uri": "https://localhost:8080/"
        },
        "id": "AAp-5W0BJ4tZ",
        "outputId": "e888463e-ac59-4c37-8430-36040c4c7d4a"
      },
      "execution_count": null,
      "outputs": [
        {
          "output_type": "execute_result",
          "data": {
            "text/plain": [
              "[1, 9, 25, 49, 81]"
            ]
          },
          "metadata": {},
          "execution_count": 30
        }
      ]
    },
    {
      "cell_type": "markdown",
      "source": [
        "# 19. Write a code that calculates the sum of cubes of numbers from given list."
      ],
      "metadata": {
        "id": "vM3hNc_bKVCx"
      }
    },
    {
      "cell_type": "code",
      "source": [
        "def sum_cubes(num):\n",
        "\n",
        "    result = 0\n",
        "\n",
        "    for i in num:\n",
        "       result += i**3\n",
        "\n",
        "    return result"
      ],
      "metadata": {
        "id": "n5ZiKkEMLZ6-"
      },
      "execution_count": null,
      "outputs": []
    },
    {
      "cell_type": "code",
      "source": [
        "num = [1,2,3,4,5,6,7,8,9,10]\n",
        "sum_cubes(num)"
      ],
      "metadata": {
        "colab": {
          "base_uri": "https://localhost:8080/"
        },
        "id": "cwUtFMt3L1Jf",
        "outputId": "4cf47bb7-edc2-475b-bd8a-c2d8db719b4c"
      },
      "execution_count": null,
      "outputs": [
        {
          "output_type": "execute_result",
          "data": {
            "text/plain": [
              "3025"
            ]
          },
          "metadata": {},
          "execution_count": 34
        }
      ]
    },
    {
      "cell_type": "markdown",
      "source": [
        "# 20. Write a code that filters out prime numbers from given list"
      ],
      "metadata": {
        "id": "Y_3Qx7HQMdj3"
      }
    },
    {
      "cell_type": "code",
      "source": [
        "def is_prime(num):\n",
        "\n",
        "    if num in [2,3]:\n",
        "        return True\n",
        "\n",
        "    elif (num==1) or (num % 2 == 0):\n",
        "            return False\n",
        "\n",
        "    else:\n",
        "       n = 3\n",
        "       while n * n <= num:\n",
        "          return False\n",
        "          n += 2\n",
        "       return True"
      ],
      "metadata": {
        "id": "iIdgzaGZMuST"
      },
      "execution_count": null,
      "outputs": []
    },
    {
      "cell_type": "code",
      "source": [
        "num = [1,2,3,4,5,6,7,8,9,10]\n",
        "\n",
        "list(filter(is_prime, num))"
      ],
      "metadata": {
        "colab": {
          "base_uri": "https://localhost:8080/"
        },
        "id": "_tDm4UujNSH1",
        "outputId": "9e9b34f4-26e3-4df1-cffc-eb7aa453c6bb"
      },
      "execution_count": null,
      "outputs": [
        {
          "output_type": "execute_result",
          "data": {
            "text/plain": [
              "[2, 3, 5, 7]"
            ]
          },
          "metadata": {},
          "execution_count": 67
        }
      ]
    },
    {
      "cell_type": "markdown",
      "source": [
        "# 21. Write a code that uses a lambda function to calculate the sum of two numbers."
      ],
      "metadata": {
        "id": "nSqPgsIsm_Ce"
      }
    },
    {
      "cell_type": "code",
      "source": [
        "sum = lambda x, y: x+y\n",
        "sum(4, 5)"
      ],
      "metadata": {
        "id": "UpHGuOlcnsbk",
        "colab": {
          "base_uri": "https://localhost:8080/"
        },
        "outputId": "941af24a-641a-4da2-9606-caa68ebc52a2"
      },
      "execution_count": null,
      "outputs": [
        {
          "output_type": "execute_result",
          "data": {
            "text/plain": [
              "9"
            ]
          },
          "metadata": {},
          "execution_count": 157
        }
      ]
    },
    {
      "cell_type": "markdown",
      "source": [
        "# 22. Write a code that uses a lambda function to calculate the square of a given number."
      ],
      "metadata": {
        "id": "lCnHDrwrnJLK"
      }
    },
    {
      "cell_type": "code",
      "source": [
        "square = lambda x: x**2\n",
        "square(6)"
      ],
      "metadata": {
        "colab": {
          "base_uri": "https://localhost:8080/"
        },
        "id": "xxeEk0_gn5Ok",
        "outputId": "cfbdda07-f78a-43ea-f961-cc857ebd29e4"
      },
      "execution_count": null,
      "outputs": [
        {
          "output_type": "execute_result",
          "data": {
            "text/plain": [
              "36"
            ]
          },
          "metadata": {},
          "execution_count": 71
        }
      ]
    },
    {
      "cell_type": "markdown",
      "source": [
        "# 23. Write a code that uses a lambda function to check whether a given number even or odd"
      ],
      "metadata": {
        "id": "pTdF0I5wnGvt"
      }
    },
    {
      "cell_type": "code",
      "source": [
        "even_or_odd = lambda x:'even' if x % 2 == 0 else 'odd'\n",
        "even_or_odd(4)"
      ],
      "metadata": {
        "colab": {
          "base_uri": "https://localhost:8080/",
          "height": 36
        },
        "id": "bsMiSQ1soEoX",
        "outputId": "e4bdd3ee-c3dd-4274-82ba-86ee5bdc9fdc"
      },
      "execution_count": null,
      "outputs": [
        {
          "output_type": "execute_result",
          "data": {
            "text/plain": [
              "'even'"
            ],
            "application/vnd.google.colaboratory.intrinsic+json": {
              "type": "string"
            }
          },
          "metadata": {},
          "execution_count": 73
        }
      ]
    },
    {
      "cell_type": "markdown",
      "source": [
        "# 24. Write a code that uses a lambda function to concatenate two string."
      ],
      "metadata": {
        "id": "vzAAUD8tnXQ2"
      }
    },
    {
      "cell_type": "code",
      "source": [
        "concat_two_str = lambda x, y: x+y\n",
        "concat_two_str('PW', ' Skills')"
      ],
      "metadata": {
        "colab": {
          "base_uri": "https://localhost:8080/",
          "height": 36
        },
        "id": "7qFzOTdio4ld",
        "outputId": "13f0ea78-9235-46fc-da2a-713148df561a"
      },
      "execution_count": null,
      "outputs": [
        {
          "output_type": "execute_result",
          "data": {
            "text/plain": [
              "'PW Skills'"
            ],
            "application/vnd.google.colaboratory.intrinsic+json": {
              "type": "string"
            }
          },
          "metadata": {},
          "execution_count": 75
        }
      ]
    },
    {
      "cell_type": "markdown",
      "source": [
        "# 25. Write a code that uses a lambda function to find the maximum of three given numbers."
      ],
      "metadata": {
        "id": "pHT5zQrNncW9"
      }
    },
    {
      "cell_type": "code",
      "source": [
        "maximum = lambda x, y, z: x if x > y and x > z else y if y > x and y > z else z"
      ],
      "metadata": {
        "id": "VMpk7KR0nk43"
      },
      "execution_count": null,
      "outputs": []
    },
    {
      "cell_type": "code",
      "source": [
        "maximum(3, 4, 2)"
      ],
      "metadata": {
        "colab": {
          "base_uri": "https://localhost:8080/"
        },
        "id": "LBy6zShbsKmt",
        "outputId": "2ef4aacd-924e-4aa0-d849-ab95771125a6"
      },
      "execution_count": null,
      "outputs": [
        {
          "output_type": "execute_result",
          "data": {
            "text/plain": [
              "4"
            ]
          },
          "metadata": {},
          "execution_count": 112
        }
      ]
    },
    {
      "cell_type": "code",
      "source": [
        "maximum(49, 10, 100)"
      ],
      "metadata": {
        "colab": {
          "base_uri": "https://localhost:8080/"
        },
        "id": "4qQsLPNJtZjD",
        "outputId": "b494c05d-efc2-4a4d-dfd2-6a5446d1b5ff"
      },
      "execution_count": null,
      "outputs": [
        {
          "output_type": "execute_result",
          "data": {
            "text/plain": [
              "100"
            ]
          },
          "metadata": {},
          "execution_count": 113
        }
      ]
    },
    {
      "cell_type": "markdown",
      "source": [
        "# 26. What is encapsulation in OOP?\n",
        "\n",
        "**Ans:** Encapsulation is a core concept in object-oriented programming (OOP) that involves bundling data (variables) and the methods (functions) that operate on that data into a single unit, typically a class. This concept is used to hide the internal state of an object from the outside world and to control access to it."
      ],
      "metadata": {
        "id": "7s4tPdZETAWm"
      }
    },
    {
      "cell_type": "markdown",
      "source": [
        "# 27. Explain the use of access modifiers in Python classes.\n",
        "\n",
        "**Ans:** In Python, access modifiers are used to control the accessibility of class members, such as attributes and methods. Private, public, and protected\n",
        "are the three different access modifier types that Python offers."
      ],
      "metadata": {
        "id": "tNYOl5YoTWqO"
      }
    },
    {
      "cell_type": "markdown",
      "source": [
        "# 28. What is inheritance in OOP?\n",
        "**Ans:**\n",
        "Inheritance plays a very important role in the object-oriented programming language. It refers to the process of the child class receiving the properties of the parent class. This is called inheritance."
      ],
      "metadata": {
        "id": "_Mthx2JLSOfJ"
      }
    },
    {
      "cell_type": "markdown",
      "source": [
        "# 29. Define polymorphism in OOP.\n",
        "\n",
        "**Ans:** The term \"polymorphism\" comes from the Greek words \"poly\" means many and \"morphism\" means form or shape. In OOP, polymorphism means the same function name (but different signatures) being used for different types. The key difference is the data types and number of arguments used in function."
      ],
      "metadata": {
        "id": "glt-agOWS5Xc"
      }
    },
    {
      "cell_type": "markdown",
      "source": [
        "# 30. Explain method overriding in Python.\n",
        "**Ans:** Making a method within the child class with the same name as the method that is already present within the parent class, the child class's method will override the method of the parent class. This is called method overriding."
      ],
      "metadata": {
        "id": "y2LzHKBLUQVh"
      }
    },
    {
      "cell_type": "markdown",
      "source": [
        "# 31. Define a parent class Animal with a method make_sound that prints \"Generic animal sound\". Create a child class Dog inheriting from Animal with a method make_sound that prints \"Woof!\"."
      ],
      "metadata": {
        "id": "FdmVTRpGU3yf"
      }
    },
    {
      "cell_type": "code",
      "source": [
        "class Animal:\n",
        "\n",
        "    def make_sound(self):\n",
        "        print(\"Generic animal sound\")\n",
        "\n",
        "class Dog(Animal):\n",
        "\n",
        "      def make_sound(self):\n",
        "          print(\"Woof!\")\n"
      ],
      "metadata": {
        "id": "MsUnXv1LWpTG"
      },
      "execution_count": 1,
      "outputs": []
    },
    {
      "cell_type": "code",
      "source": [
        "d = Dog()\n",
        "d.make_sound()"
      ],
      "metadata": {
        "colab": {
          "base_uri": "https://localhost:8080/"
        },
        "id": "gcSKQSPFC9B_",
        "outputId": "84c8cce0-095c-4b88-c70a-ab7a25ac246a"
      },
      "execution_count": 2,
      "outputs": [
        {
          "output_type": "stream",
          "name": "stdout",
          "text": [
            "Woof!\n"
          ]
        }
      ]
    },
    {
      "cell_type": "markdown",
      "source": [
        "# 32. Define a method move in the Animal class that prints \"Animal moves\". Override the move method in the Dog class to print \"Dog runs.\"\n"
      ],
      "metadata": {
        "id": "ZIL3-gmDXQ0H"
      }
    },
    {
      "cell_type": "code",
      "source": [
        "class Animal:\n",
        "\n",
        "     def move(self):\n",
        "         print(\"Animal moves\")\n",
        "\n",
        "class Dog(Animal):\n",
        "\n",
        "     def move(self):\n",
        "         print(\"Dog runs.\")"
      ],
      "metadata": {
        "id": "0JgT0BUIZKco"
      },
      "execution_count": 3,
      "outputs": []
    },
    {
      "cell_type": "code",
      "source": [
        "a =Dog()"
      ],
      "metadata": {
        "id": "5oQtJck6DDgo"
      },
      "execution_count": 5,
      "outputs": []
    },
    {
      "cell_type": "code",
      "source": [
        "a.move()"
      ],
      "metadata": {
        "colab": {
          "base_uri": "https://localhost:8080/"
        },
        "id": "zhBfV_YgDIGy",
        "outputId": "c56f21a5-ef2d-4160-abe9-3db1368193ff"
      },
      "execution_count": 6,
      "outputs": [
        {
          "output_type": "stream",
          "name": "stdout",
          "text": [
            "Dog runs.\n"
          ]
        }
      ]
    },
    {
      "cell_type": "markdown",
      "source": [
        "# 33. Create a class Mammal with a method reproduce that prints \"Giving birth to live young.\" Create a class DogMammal inheriting from both Dog and Mammal."
      ],
      "metadata": {
        "id": "cajGJYmxZ167"
      }
    },
    {
      "cell_type": "code",
      "source": [
        "class Mammal:\n",
        "\n",
        "      def reproduce(self):\n",
        "          print(\"Giving birth to live young\")\n",
        "\n",
        "class Dog:\n",
        "\n",
        "      def puppy(self):\n",
        "          print(\"Giving birth to a puppy\")\n",
        "\n",
        "class DogMammal(Dog, Mammal):\n",
        "      pass"
      ],
      "metadata": {
        "id": "0O4Yx0mWahWe"
      },
      "execution_count": null,
      "outputs": []
    },
    {
      "cell_type": "code",
      "source": [
        "dogmammal = DogMammal()"
      ],
      "metadata": {
        "id": "bm9AIA-Obnqh"
      },
      "execution_count": null,
      "outputs": []
    },
    {
      "cell_type": "code",
      "source": [
        "dogmammal.puppy()"
      ],
      "metadata": {
        "colab": {
          "base_uri": "https://localhost:8080/"
        },
        "id": "GWJCe0LDbt-D",
        "outputId": "e6d37d1f-0174-4009-ef1f-1f551c736f75"
      },
      "execution_count": null,
      "outputs": [
        {
          "output_type": "stream",
          "name": "stdout",
          "text": [
            "Giving a birth of puppy\n"
          ]
        }
      ]
    },
    {
      "cell_type": "markdown",
      "source": [
        "# 34. Create a class GermanShepherd inheriting from Dog and override the make_sound method to print \"Bark!\""
      ],
      "metadata": {
        "id": "KmE1GykEdBP6"
      }
    },
    {
      "cell_type": "code",
      "source": [
        "class Dog:\n",
        "\n",
        "      def make_sound(self):\n",
        "          print('Dog makes sound')\n",
        "\n",
        "class GermanShepherd(Dog):\n",
        "\n",
        "      def make_sound(self):\n",
        "          print(\"Bark!\")"
      ],
      "metadata": {
        "id": "nTn8BAXSdrG5"
      },
      "execution_count": null,
      "outputs": []
    },
    {
      "cell_type": "code",
      "source": [
        "german = GermanShepherd()\n",
        "german.make_sound()"
      ],
      "metadata": {
        "colab": {
          "base_uri": "https://localhost:8080/"
        },
        "id": "s2pkWz3ufaNH",
        "outputId": "70c1eabd-dcd3-43be-ffba-b4fd1614ee9d"
      },
      "execution_count": null,
      "outputs": [
        {
          "output_type": "stream",
          "name": "stdout",
          "text": [
            "Bark!\n"
          ]
        }
      ]
    },
    {
      "cell_type": "markdown",
      "source": [
        "# 35. Define constructors in both the Animal and Dog classes with different initialization parameters."
      ],
      "metadata": {
        "id": "mk8nozkCJlxf"
      }
    },
    {
      "cell_type": "code",
      "source": [
        "class Animal:\n",
        "     def __init__(self, type_of_animal):\n",
        "         self.animal = type_of_animal\n",
        "\n",
        "class Dog:\n",
        "      def __init__(self, type_of_dog):\n",
        "          self.dog = type_of_dog"
      ],
      "metadata": {
        "id": "Fcn41bLAU4EZ"
      },
      "execution_count": null,
      "outputs": []
    },
    {
      "cell_type": "code",
      "source": [
        "ani = Animal('Dog')\n",
        "ani.animal"
      ],
      "metadata": {
        "colab": {
          "base_uri": "https://localhost:8080/",
          "height": 36
        },
        "id": "MJmzH0XOnDwW",
        "outputId": "0758405f-ff90-4fda-a2d5-28120412cd45"
      },
      "execution_count": null,
      "outputs": [
        {
          "output_type": "execute_result",
          "data": {
            "text/plain": [
              "'Dog'"
            ],
            "application/vnd.google.colaboratory.intrinsic+json": {
              "type": "string"
            }
          },
          "metadata": {},
          "execution_count": 6
        }
      ]
    },
    {
      "cell_type": "code",
      "source": [
        "d = Dog(\"GermanShepherd\")\n",
        "d.dog"
      ],
      "metadata": {
        "colab": {
          "base_uri": "https://localhost:8080/",
          "height": 36
        },
        "id": "VDKuZKZHnhoG",
        "outputId": "911a92f6-26dd-474c-e8b0-2fbf4e59928b"
      },
      "execution_count": null,
      "outputs": [
        {
          "output_type": "execute_result",
          "data": {
            "text/plain": [
              "'GermanShepherd'"
            ],
            "application/vnd.google.colaboratory.intrinsic+json": {
              "type": "string"
            }
          },
          "metadata": {},
          "execution_count": 7
        }
      ]
    },
    {
      "cell_type": "markdown",
      "source": [
        "# 36. What is abstraction in Python? How is it implemented?\n",
        "\n",
        "**Ans:** In Python, abstraction refers to the concept of hiding the complex implementation details of a particular functionality and only showing the necessary features or interfaces to the outside world. It allows the programmer to focus on the essential aspects of an object or a system without worrying about internal complexity.\n",
        "\n",
        "Here's how abstraction is typically implemented in Python:\n",
        "\n",
        "1. **import abc:** Python provides the abc module, which allows you to define abstract base classes. You can declare methods as abstract, meaning they have no implementation in the base class and must be overridden in subclasses.\n",
        "\n",
        "2. **Abstract Method:** Using @abc.abstractmethod decorator, you can define methods that subclasses are expected to implement.\n",
        "\n",
        "3. **Subclassing:** Concrete classes inherit from the abstract base class and provide implementations for the abstract methods."
      ],
      "metadata": {
        "id": "xoq-aillFVJP"
      }
    },
    {
      "cell_type": "markdown",
      "source": [
        "# 37. Explain the importance of abstraction in Object-Oriented programming.\n",
        "\n",
        "**Ans:** Importance of abstraction in OOP:\n",
        "\n",
        "1. **Simplifies Complexity:** Abstraction enables developers to work with more complex logic without needing to understand the complex details of how everything works.\n",
        "\n",
        "2. **Increases Reusability:** By hiding the implementation details, the same abstraction can be reused in different parts of the application without any changes.\n",
        "\n",
        "3. **Improves Maintainability:** Changes to the internal implementation of a class do not affect the parts of the program that use the class, as long as the 'interface' remains the same.\n",
        "\n",
        "4. **Enhances Modularity:** Abstraction helps in separating the concerns within a program, making it more modular and easier to mange."
      ],
      "metadata": {
        "id": "0DlZy6HcGTFq"
      }
    },
    {
      "cell_type": "markdown",
      "source": [
        "# 38. How are abstract methods different from regular methods in Python?\n",
        "\n",
        "**Ans:** Abstract methods, marked by @abc.abstractmethod, set a template for subclasses to follow, with no implementation. Regular methods are fully implemented and can be executed directly. Abstract methods ensure consistency in subclass behavior, while regular methods provide actual functionality. Essentially, abstract methods define \"what\" to do, and regular methods define \"how\" to do it."
      ],
      "metadata": {
        "id": "WNyYoI2LGYJj"
      }
    },
    {
      "cell_type": "markdown",
      "source": [
        "# 39. How can you achieve abstraction using interfaces in Python?"
      ],
      "metadata": {
        "id": "bXc5Qr-1Uxf8"
      }
    },
    {
      "cell_type": "code",
      "source": [
        "import abc"
      ],
      "metadata": {
        "id": "E3q1wh3aWYA0"
      },
      "execution_count": null,
      "outputs": []
    },
    {
      "cell_type": "code",
      "source": [
        "class Interface:\n",
        "\n",
        "      @abc.abstractmethod\n",
        "      def method_1(self):\n",
        "          pass\n",
        "\n",
        "      @abc.abstractmethod\n",
        "      def method_2(self):\n",
        "          pass"
      ],
      "metadata": {
        "id": "pWXooh6naxtc"
      },
      "execution_count": null,
      "outputs": []
    },
    {
      "cell_type": "markdown",
      "source": [
        "# 40. Can you provide an example of how abstraction can be utilized to create a common interface for a group of related classes in Python?"
      ],
      "metadata": {
        "id": "F4c_W8dOeWNt"
      }
    },
    {
      "cell_type": "code",
      "source": [
        "import abc"
      ],
      "metadata": {
        "id": "_GjIorCEfMY1"
      },
      "execution_count": null,
      "outputs": []
    },
    {
      "cell_type": "code",
      "source": [
        "class Laptop:\n",
        "\n",
        "      @abc.abstractmethod\n",
        "      def processor(self):\n",
        "          pass\n",
        "\n",
        "      @abc.abstractmethod\n",
        "      def display(self):\n",
        "          pass\n",
        "\n",
        "      @abc.abstractmethod\n",
        "      def storage(self):\n",
        "          pass"
      ],
      "metadata": {
        "id": "vvVAxacdfPa6"
      },
      "execution_count": null,
      "outputs": []
    },
    {
      "cell_type": "code",
      "source": [
        "class Lenovo(Laptop):\n",
        "\n",
        "      def processor(self):\n",
        "          print(\"AMD Ryzen 5\")\n",
        "\n",
        "      def display(self):\n",
        "          print(\"15.6 inch\")\n",
        "\n",
        "      def storage(self):\n",
        "          print(\"512 GB\")"
      ],
      "metadata": {
        "id": "goS7Oy4jgTZa"
      },
      "execution_count": null,
      "outputs": []
    },
    {
      "cell_type": "code",
      "source": [
        "class HP(Laptop):\n",
        "\n",
        "      def processor(self):\n",
        "          print(\"intel i5\")\n",
        "\n",
        "      def display(self):\n",
        "          print(\"14 inch\")\n",
        "\n",
        "      def storage(self):\n",
        "          print(\"256 GB\")"
      ],
      "metadata": {
        "id": "eg9jSBtJhN_Q"
      },
      "execution_count": null,
      "outputs": []
    },
    {
      "cell_type": "markdown",
      "source": [
        "# 41. How does Python achieve polymorphism through method overriding?\n",
        "\n",
        "**Ans:** Python achieve polymorphism through method overriding by allowing a subclass to provide a specific implementation of a method that's already defined in its superclass. This means that the subclass can have a method with the same as in the parent class, but with a behavior change to the subclass."
      ],
      "metadata": {
        "id": "v3T2KRzRh9xp"
      }
    },
    {
      "cell_type": "code",
      "source": [
        "class Polymorphism:\n",
        "\n",
        "      def override(self):\n",
        "          print(\"Method override\")\n",
        "\n",
        "class Over(Polymorphism):\n",
        "\n",
        "      def override(self):\n",
        "          print(\"The child class method will override the parent class method\")"
      ],
      "metadata": {
        "id": "0z1ETOyti15x"
      },
      "execution_count": null,
      "outputs": []
    },
    {
      "cell_type": "code",
      "source": [
        "obj = Over()"
      ],
      "metadata": {
        "id": "uFNZ7TK4j0ZL"
      },
      "execution_count": null,
      "outputs": []
    },
    {
      "cell_type": "code",
      "source": [
        "obj.override()"
      ],
      "metadata": {
        "colab": {
          "base_uri": "https://localhost:8080/"
        },
        "id": "b2dAiublj44y",
        "outputId": "aa6a2cd1-32d8-4170-b7e1-6c28e8fa7190"
      },
      "execution_count": null,
      "outputs": [
        {
          "output_type": "stream",
          "name": "stdout",
          "text": [
            "This method will override the parent class method\n"
          ]
        }
      ]
    },
    {
      "cell_type": "markdown",
      "source": [
        "# 42. Define a base class with a method and a subclass that overrides the method."
      ],
      "metadata": {
        "id": "iIDy0GOrkKTE"
      }
    },
    {
      "cell_type": "code",
      "source": [
        "class Human:\n",
        "\n",
        "      def run(self):\n",
        "          print(\"Humans can run.\")\n",
        "\n",
        "class Person(Human):\n",
        "\n",
        "      def run(self):\n",
        "          print(\"He can run faster than others.\")"
      ],
      "metadata": {
        "id": "cWlRLBUjkh9z"
      },
      "execution_count": null,
      "outputs": []
    },
    {
      "cell_type": "code",
      "source": [
        "per = Person()"
      ],
      "metadata": {
        "id": "QquKaWTkrJHA"
      },
      "execution_count": null,
      "outputs": []
    },
    {
      "cell_type": "code",
      "source": [
        "per.run()"
      ],
      "metadata": {
        "colab": {
          "base_uri": "https://localhost:8080/"
        },
        "id": "cG3Lnw3WrNGj",
        "outputId": "8103c57a-e800-48d0-b939-937b55f0ee6e"
      },
      "execution_count": null,
      "outputs": [
        {
          "output_type": "stream",
          "name": "stdout",
          "text": [
            "He can run faster than others.\n"
          ]
        }
      ]
    },
    {
      "cell_type": "markdown",
      "source": [
        "# 43. Define a base class and multiple subclasses with overridden methods."
      ],
      "metadata": {
        "id": "LbaVdiDOrRum"
      }
    },
    {
      "cell_type": "code",
      "source": [
        "class Human:\n",
        "\n",
        "      def run(self):\n",
        "          print(\"Humans can run.\")\n",
        "\n",
        "class Person1(Human):\n",
        "\n",
        "      def run(self):\n",
        "          print(\"Person 1 can run fast.\")\n",
        "\n",
        "class Person2(Human):\n",
        "\n",
        "      def run(self):\n",
        "          print(\"Person 2 can run faster than person 1\")\n",
        "\n"
      ],
      "metadata": {
        "id": "uqvd5vwErqZT"
      },
      "execution_count": 7,
      "outputs": []
    },
    {
      "cell_type": "code",
      "source": [
        "per1 = Person1()"
      ],
      "metadata": {
        "id": "8dnsptBiF-f0"
      },
      "execution_count": 11,
      "outputs": []
    },
    {
      "cell_type": "code",
      "source": [
        "per1.run()"
      ],
      "metadata": {
        "colab": {
          "base_uri": "https://localhost:8080/"
        },
        "id": "DdNjQxI_GI8Q",
        "outputId": "e73e6a24-0eeb-4ec7-dd71-17ec7c68662d"
      },
      "execution_count": 14,
      "outputs": [
        {
          "output_type": "stream",
          "name": "stdout",
          "text": [
            "Person 1 can run fast.\n"
          ]
        }
      ]
    },
    {
      "cell_type": "code",
      "source": [
        "per2 = Person2()"
      ],
      "metadata": {
        "id": "yhcirDjkszqD"
      },
      "execution_count": 12,
      "outputs": []
    },
    {
      "cell_type": "code",
      "source": [
        "per2.run()"
      ],
      "metadata": {
        "colab": {
          "base_uri": "https://localhost:8080/"
        },
        "id": "9JwcoNFus4QK",
        "outputId": "e685297a-a230-441f-975a-26c41fc829af"
      },
      "execution_count": 13,
      "outputs": [
        {
          "output_type": "stream",
          "name": "stdout",
          "text": [
            "Person 2 can run faster than person 1\n"
          ]
        }
      ]
    },
    {
      "cell_type": "markdown",
      "source": [
        "# 44. How does polymorphism improve code readability and reusability?\n",
        "\n",
        "**Ans:**\n",
        "\n",
        "**1. Code Readability:** It allows you to use the same method name for different purposes, making the code more intuitive.\n",
        "\n",
        "**2. Code Reusability:** Polymorphism enables you to write more generic and reusable code. You can create a single function or class that works with objects of different types.\n",
        "\n",
        "**3. Flexibility and Extensibility:** With polymorphism, you can add new classes that fit into existing structures without changing the existing code. This means you can extend your code with new features while ensuring that the existing functionality remains stable and unchanged.\n",
        "\n",
        "**4. Maintenance:** It simplifies code maintenance because changes to a superclass method are automatically reflected in subclass methods. This reduces the chance of errors when updating methods that are used across different parts of an application."
      ],
      "metadata": {
        "id": "jII3j0DutQkW"
      }
    },
    {
      "cell_type": "markdown",
      "source": [
        "# 45. Describe how Python supports polymorphism with duck typing.\n",
        "\n",
        "**Ans:** Python supports polymorphism through duck typing, a concept that emphasizes an object's behavior rather than its specific type. This means that if an object can perform certain operations or methods, it can be treated as another type of object that also performs those operations, even if they don't share a common parent class or interface."
      ],
      "metadata": {
        "id": "gNq8oCJet_LI"
      }
    },
    {
      "cell_type": "markdown",
      "source": [
        "# 46. How do you achieve encapsulation in Python?\n",
        "\n",
        "**Ans:** In Python, encapsulation is achieved by bundling data and methods that operate on the data within a single unit, such as class. This concept helps in restricting access to methods and variables, thereby preventing data from being modified unintentionally."
      ],
      "metadata": {
        "id": "tGaBO-Na67wK"
      }
    },
    {
      "cell_type": "markdown",
      "source": [
        "# 47. Can encapsulation be bypassed in Python? If so, how?\n",
        "\n",
        "**Ans:** Yes, encapsulation can be bypassed in Python. While Python uses a convention to denote private variables by prefixing them with double underscores (e.g., __variable), it’s important to note that this is a convention, not a language-enforced rule. Python performs name mangling, where it internally changes the name of the variable in a way that makes it harder to access from outside the class, but not impossible. For example, if you have a private variable ` __privateVar` in a class MyClass, Python will mangle the name to` _MyClass __privateVar `. You can still access and modify this variable from outside the class using the mangled name."
      ],
      "metadata": {
        "id": "KvApUbUILBxX"
      }
    },
    {
      "cell_type": "markdown",
      "source": [
        "# 48.  Implement a class Bankaccount with a private balance attributed. Include methods to deposit, withdraw, and check the balance.\n"
      ],
      "metadata": {
        "id": "dDORyn2Bdc3P"
      }
    },
    {
      "cell_type": "code",
      "source": [
        "class Bankaccount:\n",
        "\n",
        "      def __init__(self, balance):\n",
        "          self.__balance = balance\n",
        "\n",
        "      def deposit(self, amount):\n",
        "          self.__balance += amount\n",
        "\n",
        "      def withdraw(self, amount):\n",
        "          self.__balance -= amount\n",
        "          return True if self.__balance >= amount else False\n",
        "\n",
        "      def check_the_balance(self):\n",
        "          return self.__balance"
      ],
      "metadata": {
        "id": "X1VmXgjDeOnC"
      },
      "execution_count": null,
      "outputs": []
    },
    {
      "cell_type": "code",
      "source": [
        "bank = Bankaccount(10000)"
      ],
      "metadata": {
        "id": "ZORkyqonfmae"
      },
      "execution_count": null,
      "outputs": []
    },
    {
      "cell_type": "code",
      "source": [
        "bank.check_the_balance()"
      ],
      "metadata": {
        "colab": {
          "base_uri": "https://localhost:8080/"
        },
        "id": "v6XBrk5ff-Vz",
        "outputId": "e52cd974-1fca-43e7-d1ba-5fe408db81d0"
      },
      "execution_count": null,
      "outputs": [
        {
          "output_type": "execute_result",
          "data": {
            "text/plain": [
              "10000"
            ]
          },
          "metadata": {},
          "execution_count": 46
        }
      ]
    },
    {
      "cell_type": "code",
      "source": [
        "bank.deposit(1000)"
      ],
      "metadata": {
        "id": "IcPClXrugBWg"
      },
      "execution_count": null,
      "outputs": []
    },
    {
      "cell_type": "code",
      "source": [
        "bank.check_the_balance()"
      ],
      "metadata": {
        "colab": {
          "base_uri": "https://localhost:8080/"
        },
        "id": "IWPXhTdugT5n",
        "outputId": "d9083ddb-19c6-41b4-8250-0f3d8ad8f0fb"
      },
      "execution_count": null,
      "outputs": [
        {
          "output_type": "execute_result",
          "data": {
            "text/plain": [
              "11000"
            ]
          },
          "metadata": {},
          "execution_count": 48
        }
      ]
    },
    {
      "cell_type": "code",
      "source": [
        "bank.withdraw(1000)"
      ],
      "metadata": {
        "colab": {
          "base_uri": "https://localhost:8080/"
        },
        "id": "OURyieiPgkwr",
        "outputId": "0b3663f5-71b1-440d-f04c-0897217912b3"
      },
      "execution_count": null,
      "outputs": [
        {
          "output_type": "execute_result",
          "data": {
            "text/plain": [
              "True"
            ]
          },
          "metadata": {},
          "execution_count": 49
        }
      ]
    },
    {
      "cell_type": "code",
      "source": [
        "bank.check_the_balance()"
      ],
      "metadata": {
        "colab": {
          "base_uri": "https://localhost:8080/"
        },
        "id": "RDY2awp1g1vT",
        "outputId": "31891d68-2792-4cd4-f9f6-e9b374d8c99f"
      },
      "execution_count": null,
      "outputs": [
        {
          "output_type": "execute_result",
          "data": {
            "text/plain": [
              "10000"
            ]
          },
          "metadata": {},
          "execution_count": 50
        }
      ]
    },
    {
      "cell_type": "code",
      "source": [
        "bank.withdraw(11000)"
      ],
      "metadata": {
        "colab": {
          "base_uri": "https://localhost:8080/"
        },
        "id": "NXTR6aKsihXq",
        "outputId": "eac7683b-cf01-4e62-f364-4ec09c24f15e"
      },
      "execution_count": null,
      "outputs": [
        {
          "output_type": "execute_result",
          "data": {
            "text/plain": [
              "False"
            ]
          },
          "metadata": {},
          "execution_count": 51
        }
      ]
    },
    {
      "cell_type": "markdown",
      "source": [
        "# 49. Develop a Person class with private attributes name and email, and methods to set and get the email."
      ],
      "metadata": {
        "id": "Rni7lj434S4R"
      }
    },
    {
      "cell_type": "code",
      "source": [
        "class Person:\n",
        "\n",
        "      def __init__(self, name, email):\n",
        "          self.__name = name\n",
        "          self.__email = email\n",
        "\n",
        "      def Set(self, name, email):\n",
        "          self.__name = name\n",
        "          self.__email = email\n",
        "\n",
        "      def Get(self):\n",
        "          return self.__name, self.__email\n"
      ],
      "metadata": {
        "id": "6_KFQiBV4nOk"
      },
      "execution_count": null,
      "outputs": []
    },
    {
      "cell_type": "code",
      "source": [
        "per = Person(\"Aagam\", \"aagam@gmail.com\")"
      ],
      "metadata": {
        "id": "Sy8sYLHn5kCj"
      },
      "execution_count": null,
      "outputs": []
    },
    {
      "cell_type": "code",
      "source": [
        "per.Get()"
      ],
      "metadata": {
        "colab": {
          "base_uri": "https://localhost:8080/"
        },
        "id": "t18bPrTc5tFz",
        "outputId": "669e369e-f1b6-474e-8d5a-f33652632652"
      },
      "execution_count": null,
      "outputs": [
        {
          "output_type": "execute_result",
          "data": {
            "text/plain": [
              "('Aagam', 'aagam@gmail.com')"
            ]
          },
          "metadata": {},
          "execution_count": 13
        }
      ]
    },
    {
      "cell_type": "code",
      "source": [
        "per.Set(\"Rahul\", \"rahul@gmail.com\")"
      ],
      "metadata": {
        "id": "6KgE04685-6f"
      },
      "execution_count": null,
      "outputs": []
    },
    {
      "cell_type": "code",
      "source": [
        "per.Get()"
      ],
      "metadata": {
        "colab": {
          "base_uri": "https://localhost:8080/"
        },
        "id": "HRct2IvB6WE8",
        "outputId": "c932d386-f96a-4a53-9e1e-ee1f7ac6068b"
      },
      "execution_count": null,
      "outputs": [
        {
          "output_type": "execute_result",
          "data": {
            "text/plain": [
              "('Rahul', 'rahul@gmail.com')"
            ]
          },
          "metadata": {},
          "execution_count": 16
        }
      ]
    },
    {
      "cell_type": "markdown",
      "source": [
        "# 50. Why is encapsulation considered a pillar of object-oriented programming (OOP)?\n",
        "\n",
        "**Ans:** Encapsulation is considered a fundamental pillar of object-oriented programming (OOP) because it helps to achieve the following:\n",
        "\n",
        "\n",
        "\n",
        "*   **Data Hiding:** Encapsulation allows the interal state of an object to be hidden from the outside. This means that the object's data can only be accessed in a controlled manner, which protects the data from unauthorized access and modification.\n",
        "*   **Abstraction:** By exposing only necessary components and hiding implentation details, encapsulation contributes to the abstraction aspect of OOP, making the code more understandable and easier to interact with.\n",
        "\n",
        "\n",
        "*   **Modularity:** Encapsulation enhances modularity by allowing developers to build components that can be maintained and debugged independently of one another.\n",
        "*   **Maintainability:** With encapsulation, changes to the internal workings of a class do not affect other parts of the program, which makes the codebase more maintainable and scalable.\n",
        "\n",
        "\n",
        "*   **Controlled Access:** It provides control over the data by using methods (getters and setters) to validate and manipulate the data, ensuring that objects remain in a valid state.\n",
        "\n",
        "\n",
        "\n",
        "\n",
        "\n"
      ],
      "metadata": {
        "id": "tLgxqaEv6f_X"
      }
    },
    {
      "cell_type": "markdown",
      "source": [
        "#51. Create a decorator in Python that adds functionality to a simple function by printing a message before and after the function execution.\n"
      ],
      "metadata": {
        "id": "UMTZYbziCmJB"
      }
    },
    {
      "cell_type": "code",
      "source": [
        "def Decorator(func):\n",
        "    def receiver():\n",
        "        print(\"Message before the function\")\n",
        "        func()\n",
        "        print(\"Message after the function\")\n",
        "    return receiver"
      ],
      "metadata": {
        "id": "TXR4EEknjx1D"
      },
      "execution_count": 15,
      "outputs": []
    },
    {
      "cell_type": "code",
      "source": [
        "@Decorator\n",
        "def simple_func():\n",
        "    print(\"This will print in between the messages.\")"
      ],
      "metadata": {
        "id": "slTFQZO4kmht"
      },
      "execution_count": 16,
      "outputs": []
    },
    {
      "cell_type": "code",
      "source": [
        "simple_func()"
      ],
      "metadata": {
        "colab": {
          "base_uri": "https://localhost:8080/"
        },
        "id": "tviWvf-plAuk",
        "outputId": "f89f624e-8811-473e-8b26-e608ceab5bb2"
      },
      "execution_count": 17,
      "outputs": [
        {
          "output_type": "stream",
          "name": "stdout",
          "text": [
            "Message before the function\n",
            "This will print in between the messages.\n",
            "Message after the function\n"
          ]
        }
      ]
    },
    {
      "cell_type": "markdown",
      "source": [
        "\n",
        "#52. Modify the decorator to accept arguments and print the function name along with the message.\n"
      ],
      "metadata": {
        "id": "Di2HhzEMd2Y5"
      }
    },
    {
      "cell_type": "code",
      "source": [
        "def my_decorator(func):\n",
        "    def receiver(*args):\n",
        "        print(f\"The fuction name: {func.__name__} with arguments: {args}.\")\n",
        "        return func(*args)\n",
        "    return receiver"
      ],
      "metadata": {
        "id": "YCP9mj9JllGi"
      },
      "execution_count": null,
      "outputs": []
    },
    {
      "cell_type": "code",
      "source": [
        "@my_decorator\n",
        "def addition(x, y):\n",
        "    print(f\"This will print after the function name along with x = {x} and y = {y}\")\n",
        "    return x + y"
      ],
      "metadata": {
        "id": "ilxSjTUKoHKl"
      },
      "execution_count": null,
      "outputs": []
    },
    {
      "cell_type": "code",
      "source": [
        "addition(3, 9)"
      ],
      "metadata": {
        "colab": {
          "base_uri": "https://localhost:8080/"
        },
        "id": "PqqyfQJgopHw",
        "outputId": "65f3d8f9-952a-4a3c-bff0-cab4af35cb8e"
      },
      "execution_count": null,
      "outputs": [
        {
          "output_type": "stream",
          "name": "stdout",
          "text": [
            "The fuction name: addition with arguments: (3, 9).\n",
            "This will print after the function name along with x = 3 and y = 9\n"
          ]
        },
        {
          "output_type": "execute_result",
          "data": {
            "text/plain": [
              "12"
            ]
          },
          "metadata": {},
          "execution_count": 63
        }
      ]
    },
    {
      "cell_type": "markdown",
      "source": [
        "#53. Create two decorators, and apply them to a single function. Ensure that they execute in the order they are applied.\n"
      ],
      "metadata": {
        "id": "Q0FJwSTad8Tj"
      }
    },
    {
      "cell_type": "code",
      "source": [
        "def My_decorator_1(func):\n",
        "    def receiver():\n",
        "        print(\"Before My_decorator_1\")\n",
        "        func()\n",
        "        print(\"After My_decorator_1\")\n",
        "    return receiver"
      ],
      "metadata": {
        "id": "GrIbq0qlqx02"
      },
      "execution_count": null,
      "outputs": []
    },
    {
      "cell_type": "code",
      "source": [
        "def My_decorator_2(fun):\n",
        "    def receiver():\n",
        "        print(\"Before My_decorator_2\")\n",
        "        fun()\n",
        "        print(\"After My_decorator_2\")\n",
        "    return receiver"
      ],
      "metadata": {
        "id": "2GT5zklYrbpt"
      },
      "execution_count": null,
      "outputs": []
    },
    {
      "cell_type": "code",
      "source": [
        "@My_decorator_1\n",
        "@My_decorator_2\n",
        "def greet():\n",
        "    print(\"Welcome\")"
      ],
      "metadata": {
        "id": "fAfu4Vabr97V"
      },
      "execution_count": null,
      "outputs": []
    },
    {
      "cell_type": "code",
      "source": [
        "greet()"
      ],
      "metadata": {
        "colab": {
          "base_uri": "https://localhost:8080/"
        },
        "id": "XcXyShRLsgkL",
        "outputId": "ea9c2b78-602f-4430-cb3d-3fadb70ece11"
      },
      "execution_count": null,
      "outputs": [
        {
          "output_type": "stream",
          "name": "stdout",
          "text": [
            "Before My_decorator_1\n",
            "Before My_decorator_2\n",
            "Welcome\n",
            "After My_decorator_2\n",
            "After My_decorator_1\n"
          ]
        }
      ]
    },
    {
      "cell_type": "markdown",
      "source": [
        "#54. Modify the decorator to accept and pass function arguments to the wrapped function.\n"
      ],
      "metadata": {
        "id": "6uhq3plOeD5v"
      }
    },
    {
      "cell_type": "code",
      "source": [
        "def my_decorator(func):\n",
        "    def wrapper():\n",
        "        print(\"Before the function execute\")\n",
        "        func()\n",
        "        print(\"After the fuction execute\")\n",
        "    return wrapper\n",
        "\n",
        "@my_decorator\n",
        "def say_hello():\n",
        "    print(\"Hello\")\n",
        "\n",
        "say_hello()"
      ],
      "metadata": {
        "colab": {
          "base_uri": "https://localhost:8080/"
        },
        "id": "i-RR_m2yqwPF",
        "outputId": "d2340c13-4e33-4c85-c047-f77167f72d56"
      },
      "execution_count": 18,
      "outputs": [
        {
          "output_type": "stream",
          "name": "stdout",
          "text": [
            "Before the function execute\n",
            "Hello\n",
            "After the fuction execute\n"
          ]
        }
      ]
    },
    {
      "cell_type": "markdown",
      "source": [
        "#55. Create a decorator that preserves the metadata of the original function."
      ],
      "metadata": {
        "id": "NFIpubkceLWp"
      }
    },
    {
      "cell_type": "code",
      "source": [
        "from functools import wraps"
      ],
      "metadata": {
        "id": "UTLkD17nxduN"
      },
      "execution_count": null,
      "outputs": []
    },
    {
      "cell_type": "code",
      "source": [
        "def my_decorator(func):\n",
        "    @wraps(func)  # Preserve metadata of the original function\n",
        "    def wrapper(*args):\n",
        "        print(f\"Before executing {func.__name__} with arguments: {args}\")\n",
        "        return func(*args)\n",
        "        print(f\"After executing {func.__name__}\")\n",
        "\n",
        "    return wrapper\n",
        "\n",
        "@my_decorator\n",
        "def addition(x, y):\n",
        "    \"\"\"\n",
        "    This function is adding two numbers.\n",
        "\n",
        "    \"\"\"\n",
        "    print(f\"This is a addition with arguments x={x} and y={y}\")\n",
        "    return x + y\n",
        "\n",
        "# Calling the decorated function\n",
        "print(addition(3, 5))\n",
        "\n",
        "# Accessing metadata of the decorated function\n",
        "print(\"Function name:\", addition.__name__)\n",
        "print(\"Function docstring:\", addition.__doc__)\n"
      ],
      "metadata": {
        "colab": {
          "base_uri": "https://localhost:8080/"
        },
        "id": "uIIk6JqZzar_",
        "outputId": "6fa7c07e-17c4-4c7e-a380-424aa02a132c"
      },
      "execution_count": null,
      "outputs": [
        {
          "output_type": "stream",
          "name": "stdout",
          "text": [
            "Before executing addition with arguments: (3, 5)\n",
            "This is a addition with arguments x=3 and y=5\n",
            "8\n",
            "Function name: addition\n",
            "Function docstring: \n",
            "    This function is adding two numbers.\n",
            "\n",
            "    \n"
          ]
        }
      ]
    },
    {
      "cell_type": "markdown",
      "source": [
        "#56.  Create a Python class `Calculator` with a static method `add` that takes in two numbers and returns their sum."
      ],
      "metadata": {
        "id": "ngNJdTeqeNdo"
      }
    },
    {
      "cell_type": "code",
      "source": [
        "class Calculator:\n",
        "\n",
        "      @staticmethod\n",
        "      def add(x, y):\n",
        "          return x + y"
      ],
      "metadata": {
        "id": "9anroljEfm4_"
      },
      "execution_count": null,
      "outputs": []
    },
    {
      "cell_type": "code",
      "source": [
        "cal = Calculator"
      ],
      "metadata": {
        "id": "ePhi_pYhf5Fj"
      },
      "execution_count": null,
      "outputs": []
    },
    {
      "cell_type": "code",
      "source": [
        "cal.add(4, 5)"
      ],
      "metadata": {
        "colab": {
          "base_uri": "https://localhost:8080/"
        },
        "id": "7lHvdFTnhAVj",
        "outputId": "925e9a45-d8cc-43ae-d4c6-422f70ba3576"
      },
      "execution_count": null,
      "outputs": [
        {
          "output_type": "execute_result",
          "data": {
            "text/plain": [
              "9"
            ]
          },
          "metadata": {},
          "execution_count": 3
        }
      ]
    },
    {
      "cell_type": "markdown",
      "source": [
        "#57. Create a Python class `Employee` with a class method `get_employee_count` that returns the total number of employees created."
      ],
      "metadata": {
        "id": "0d5hWRVChE5R"
      }
    },
    {
      "cell_type": "code",
      "source": [
        "class Employee:\n",
        "\n",
        "      total_number_of_employees = 0\n",
        "      def __init__(self, name):\n",
        "          self.name = name\n",
        "          Employee.total_number_of_employees += 1\n",
        "\n",
        "      @classmethod\n",
        "      def get_employee_count(cls):\n",
        "          return cls.total_number_of_employees\n",
        "\n"
      ],
      "metadata": {
        "id": "7ciOQJLAiBWS"
      },
      "execution_count": null,
      "outputs": []
    },
    {
      "cell_type": "code",
      "source": [
        "emp1 = Employee(\"Arjun\")"
      ],
      "metadata": {
        "id": "c51U6ANUjPVh"
      },
      "execution_count": null,
      "outputs": []
    },
    {
      "cell_type": "code",
      "source": [
        "emp2 = Employee(\"Rahul\")"
      ],
      "metadata": {
        "id": "yBgPAtisnvGz"
      },
      "execution_count": null,
      "outputs": []
    },
    {
      "cell_type": "code",
      "source": [
        "Employee.get_employee_count()"
      ],
      "metadata": {
        "colab": {
          "base_uri": "https://localhost:8080/"
        },
        "id": "S722b8_4n5w0",
        "outputId": "4ddf592a-987d-42cb-ce83-d78e3e16d1d0"
      },
      "execution_count": null,
      "outputs": [
        {
          "output_type": "execute_result",
          "data": {
            "text/plain": [
              "2"
            ]
          },
          "metadata": {},
          "execution_count": 22
        }
      ]
    },
    {
      "cell_type": "markdown",
      "source": [
        "#58. Create a Python class `Stringformatter` with a static method `reverse_string` that takes a string as input and returns its reverse."
      ],
      "metadata": {
        "id": "2LBXniUaokr-"
      }
    },
    {
      "cell_type": "code",
      "source": [
        "class Stringformatter:\n",
        "\n",
        "      @staticmethod\n",
        "      def reverse_string(string):\n",
        "          return string[::-1]"
      ],
      "metadata": {
        "id": "hJU3j-iSpqdK"
      },
      "execution_count": null,
      "outputs": []
    },
    {
      "cell_type": "code",
      "source": [
        "s = Stringformatter()"
      ],
      "metadata": {
        "id": "p5qCpmBKp9V1"
      },
      "execution_count": null,
      "outputs": []
    },
    {
      "cell_type": "code",
      "source": [
        "s.reverse_string(\"Water\")"
      ],
      "metadata": {
        "colab": {
          "base_uri": "https://localhost:8080/",
          "height": 36
        },
        "id": "AMqAtgrcqHgb",
        "outputId": "8a85ef76-da16-4faa-d4d8-4d7f4a3c13a4"
      },
      "execution_count": null,
      "outputs": [
        {
          "output_type": "execute_result",
          "data": {
            "text/plain": [
              "'retaW'"
            ],
            "application/vnd.google.colaboratory.intrinsic+json": {
              "type": "string"
            }
          },
          "metadata": {},
          "execution_count": 27
        }
      ]
    },
    {
      "cell_type": "code",
      "source": [
        "s.reverse_string(\"String\")"
      ],
      "metadata": {
        "colab": {
          "base_uri": "https://localhost:8080/",
          "height": 36
        },
        "id": "39QJPfU4tfA4",
        "outputId": "cdf60d01-3ce7-49e8-83e5-d0c6fed5091c"
      },
      "execution_count": null,
      "outputs": [
        {
          "output_type": "execute_result",
          "data": {
            "text/plain": [
              "'gnirtS'"
            ],
            "application/vnd.google.colaboratory.intrinsic+json": {
              "type": "string"
            }
          },
          "metadata": {},
          "execution_count": 28
        }
      ]
    },
    {
      "cell_type": "markdown",
      "source": [
        "#59.  Create a Python class `Circle` with a class method `calculate_area`that calculates the area of a circle given its radius."
      ],
      "metadata": {
        "id": "PRUDSR93t1LG"
      }
    },
    {
      "cell_type": "code",
      "source": [
        "class Circle:\n",
        "\n",
        "      def __init__(self, radius):\n",
        "          self.radius = radius\n",
        "\n",
        "      @classmethod\n",
        "      def calculate_area(cls, r):\n",
        "          return cls(3.14 * r**2)"
      ],
      "metadata": {
        "id": "WahYOL46uXl5"
      },
      "execution_count": null,
      "outputs": []
    },
    {
      "cell_type": "code",
      "source": [
        "area = Circle.calculate_area(10)"
      ],
      "metadata": {
        "id": "eyNgmeqQvqQf"
      },
      "execution_count": null,
      "outputs": []
    },
    {
      "cell_type": "code",
      "source": [
        "area.radius"
      ],
      "metadata": {
        "colab": {
          "base_uri": "https://localhost:8080/"
        },
        "id": "DOzkoPmy2w9G",
        "outputId": "6333901e-414c-493a-ef3c-ab0815bdc2d3"
      },
      "execution_count": null,
      "outputs": [
        {
          "output_type": "execute_result",
          "data": {
            "text/plain": [
              "314.0"
            ]
          },
          "metadata": {},
          "execution_count": 85
        }
      ]
    },
    {
      "cell_type": "markdown",
      "source": [
        "#60. Create a Python class `TemperatureConverter` with a static method `celsius_to_fahrenheit` that converts Celsius to Fahrenheit."
      ],
      "metadata": {
        "id": "aa9CC85T5cGU"
      }
    },
    {
      "cell_type": "code",
      "source": [
        "class TemperatureConverter:\n",
        "\n",
        "      @staticmethod\n",
        "      def celsius_to_fahrenheit(celsius):\n",
        "          return (9/5*celsius)+32"
      ],
      "metadata": {
        "id": "2mYjl11D7zfP"
      },
      "execution_count": null,
      "outputs": []
    },
    {
      "cell_type": "code",
      "source": [
        "fahrenheit = TemperatureConverter()"
      ],
      "metadata": {
        "id": "XNRRy6ql84od"
      },
      "execution_count": null,
      "outputs": []
    },
    {
      "cell_type": "code",
      "source": [
        "fahrenheit.celsius_to_fahrenheit(36)"
      ],
      "metadata": {
        "colab": {
          "base_uri": "https://localhost:8080/"
        },
        "id": "d8uIHAiU9GiN",
        "outputId": "e6b84dfc-3068-4973-c16a-8cd1d278672d"
      },
      "execution_count": null,
      "outputs": [
        {
          "output_type": "execute_result",
          "data": {
            "text/plain": [
              "96.8"
            ]
          },
          "metadata": {},
          "execution_count": 93
        }
      ]
    },
    {
      "cell_type": "markdown",
      "source": [
        "#61. What is the purpose of the__str__() method in Python classes? Provide an example.\n",
        "\n",
        "**Ans:**\n",
        "The `__str__` method in Python classes is used to define the \"informal\" or user-friendly string representation of an object. When you call the built-in str() function or use the print() function on an object, Python will internally call the object's `__str__` method to obtain a string representation of the object.\n",
        "\n",
        "The primary purpose of `__str__` is to provide a human-readable representation of the object. It's commonly used for debugging, logging, and displaying information to users. By implementing `__str__`, you can customize how instances of your class are printed or converted to strings."
      ],
      "metadata": {
        "id": "wvq6uucQRxg8"
      }
    },
    {
      "cell_type": "code",
      "source": [
        "class String:\n",
        "\n",
        "      def __init__(self):\n",
        "          self.name = \"Aagam\"\n",
        "\n",
        "      def __str__(self):\n",
        "          return f\"String representation: {self.name}\""
      ],
      "metadata": {
        "id": "ynd4B_O0TXv4"
      },
      "execution_count": null,
      "outputs": []
    },
    {
      "cell_type": "code",
      "source": [
        "print(String())"
      ],
      "metadata": {
        "colab": {
          "base_uri": "https://localhost:8080/"
        },
        "id": "HlZ1SD0yWgvM",
        "outputId": "fc615dcb-ba67-4464-b6d2-9e71724761a8"
      },
      "execution_count": null,
      "outputs": [
        {
          "output_type": "stream",
          "name": "stdout",
          "text": [
            "String representation: Aagam\n"
          ]
        }
      ]
    },
    {
      "cell_type": "code",
      "source": [
        "str(String())"
      ],
      "metadata": {
        "colab": {
          "base_uri": "https://localhost:8080/",
          "height": 35
        },
        "id": "a0OYGkptVTY8",
        "outputId": "5fdec17d-b655-43b5-db4b-0746a128f8f4"
      },
      "execution_count": null,
      "outputs": [
        {
          "output_type": "execute_result",
          "data": {
            "text/plain": [
              "'String representation: Aagam'"
            ],
            "application/vnd.google.colaboratory.intrinsic+json": {
              "type": "string"
            }
          },
          "metadata": {},
          "execution_count": 17
        }
      ]
    },
    {
      "cell_type": "markdown",
      "source": [
        "#62. How does the__len__() method work in Python? Provide an example.\n",
        "\n",
        "**Ans:** In Python, the `__len__()` method is used to define the length of an object. This method is called when the built-in len() function is used on an object. It should return the number of elements in the object."
      ],
      "metadata": {
        "id": "EofmggzeXUjB"
      }
    },
    {
      "cell_type": "code",
      "source": [
        "class Length:\n",
        "\n",
        "      def __init__(self, data):\n",
        "          self.data = data\n",
        "\n",
        "      def __len__(self):\n",
        "          return len(self.data)"
      ],
      "metadata": {
        "id": "m1H0VReqXqnp"
      },
      "execution_count": null,
      "outputs": []
    },
    {
      "cell_type": "code",
      "source": [
        "len(Length(\"Aagam\"))"
      ],
      "metadata": {
        "colab": {
          "base_uri": "https://localhost:8080/"
        },
        "id": "s218u9ihYDd4",
        "outputId": "d2efded1-5efc-4a9f-ccda-d18c5aeb55a3"
      },
      "execution_count": null,
      "outputs": [
        {
          "output_type": "execute_result",
          "data": {
            "text/plain": [
              "5"
            ]
          },
          "metadata": {},
          "execution_count": 36
        }
      ]
    },
    {
      "cell_type": "markdown",
      "source": [
        "#63. Explain the usage of the__add__() method in Python classes. Provide an example.\n",
        "\n",
        "**Ans:** In Python, the `__add__()` method is used to define the behavior of the addition operator (+) when applied to instances of a class. This method allows you to customize how objects of your class can be added together."
      ],
      "metadata": {
        "id": "_mRtAyztby89"
      }
    },
    {
      "cell_type": "code",
      "source": [
        "class Add:\n",
        "\n",
        "     def __init__(self, x, y):\n",
        "         self.x = x\n",
        "         self.y = y\n",
        "\n",
        "     def __add__(self, other):\n",
        "         return self.x + other.x , self.y + other.y"
      ],
      "metadata": {
        "id": "u_8nZIUwwAbe"
      },
      "execution_count": null,
      "outputs": []
    },
    {
      "cell_type": "code",
      "source": [
        "a = Add(4, 8)\n",
        "b = Add(3, 10)\n",
        "a+b"
      ],
      "metadata": {
        "colab": {
          "base_uri": "https://localhost:8080/"
        },
        "id": "FwWC6w6RxoWg",
        "outputId": "a5984551-530e-4381-b345-05a13c4af7ca"
      },
      "execution_count": null,
      "outputs": [
        {
          "output_type": "execute_result",
          "data": {
            "text/plain": [
              "(7, 18)"
            ]
          },
          "metadata": {},
          "execution_count": 19
        }
      ]
    },
    {
      "cell_type": "markdown",
      "source": [
        "#64. What is the purpose of the__getitem__() method in Python? Provide an example.\n",
        "\n",
        "**Ans:** In Python, the `__getitem__()` method is used to define the behavior of retrieving items from an object using indexing or slicing notation `([])`. This method allows instances of a class to support the indexing protocol, enabling them to be treated like sequences or mappings."
      ],
      "metadata": {
        "id": "Zd4yJKBE03uH"
      }
    },
    {
      "cell_type": "code",
      "source": [
        "class GetItem:\n",
        "\n",
        "      def __init__(self, data):\n",
        "          self.data = data\n",
        "\n",
        "      def __getitem__(self, index):\n",
        "          return self.data[index]"
      ],
      "metadata": {
        "id": "Wv9SfA0S1N3w"
      },
      "execution_count": null,
      "outputs": []
    },
    {
      "cell_type": "code",
      "source": [
        "item = GetItem([\"PWSkills\", \"Data Science\", \"Python\"])"
      ],
      "metadata": {
        "id": "5obNIiPI4W3W"
      },
      "execution_count": null,
      "outputs": []
    },
    {
      "cell_type": "code",
      "source": [
        "item[2]"
      ],
      "metadata": {
        "colab": {
          "base_uri": "https://localhost:8080/",
          "height": 35
        },
        "id": "93OMBYDb7J2S",
        "outputId": "839f7c41-b8fe-4155-d758-04451c9bfec5"
      },
      "execution_count": null,
      "outputs": [
        {
          "output_type": "execute_result",
          "data": {
            "text/plain": [
              "'Python'"
            ],
            "application/vnd.google.colaboratory.intrinsic+json": {
              "type": "string"
            }
          },
          "metadata": {},
          "execution_count": 14
        }
      ]
    },
    {
      "cell_type": "code",
      "source": [
        "item[0]"
      ],
      "metadata": {
        "colab": {
          "base_uri": "https://localhost:8080/",
          "height": 35
        },
        "id": "csGjc3DI4xdg",
        "outputId": "e0dce801-cd19-43da-f2b1-f086da5ed947"
      },
      "execution_count": null,
      "outputs": [
        {
          "output_type": "execute_result",
          "data": {
            "text/plain": [
              "'PWSkills'"
            ],
            "application/vnd.google.colaboratory.intrinsic+json": {
              "type": "string"
            }
          },
          "metadata": {},
          "execution_count": 12
        }
      ]
    },
    {
      "cell_type": "markdown",
      "source": [
        "#65. Explain the usage of the__iter__() and__next__() methods in Python. Provide an example using iterators.\n",
        "\n",
        "**Ans:**\n",
        "In Python, the `__iter__()` and `__next__()` methods are used to implement iterators, which are objects that can be iterated over in a loop. These methods allow you to define custom iteration behavior for instances of your class."
      ],
      "metadata": {
        "id": "MoS6y1ps5GDP"
      }
    },
    {
      "cell_type": "code",
      "source": [
        "class Iterators:\n",
        "\n",
        "      def __init__(self, start, end):\n",
        "          self.current = start\n",
        "          self.end = end\n",
        "\n",
        "      def __iter__(self):\n",
        "          return self\n",
        "\n",
        "      def __next__(self):\n",
        "          if self.current >= self.end:\n",
        "             raise StopIteration\n",
        "          result = self.current\n",
        "          self.current += 1\n",
        "          return result\n"
      ],
      "metadata": {
        "id": "pQq_U_lzEPR9"
      },
      "execution_count": null,
      "outputs": []
    },
    {
      "cell_type": "code",
      "source": [
        "it = Iterators(1, 10)"
      ],
      "metadata": {
        "id": "0c5waVxpIEfq"
      },
      "execution_count": null,
      "outputs": []
    },
    {
      "cell_type": "code",
      "source": [
        "for i in it:\n",
        "   print(i)"
      ],
      "metadata": {
        "colab": {
          "base_uri": "https://localhost:8080/"
        },
        "id": "zQNO2MYjIOtT",
        "outputId": "78a3f181-97fc-4071-8910-6e9a17be212f"
      },
      "execution_count": null,
      "outputs": [
        {
          "output_type": "stream",
          "name": "stdout",
          "text": [
            "1\n",
            "2\n",
            "3\n",
            "4\n",
            "5\n",
            "6\n",
            "7\n",
            "8\n",
            "9\n"
          ]
        }
      ]
    },
    {
      "cell_type": "code",
      "source": [
        "t1 = Iterators(1, 10)\n",
        "t2 = Iterators(1, 11)"
      ],
      "metadata": {
        "id": "7Z2LNOp9JhKi"
      },
      "execution_count": null,
      "outputs": []
    },
    {
      "cell_type": "markdown",
      "source": [
        "#66.  What is the purpose of a getter method in Python? Provide an example demonstrating the use of a getter method using property decorators.\n",
        "\n",
        "**Ans:** In Python, a getter method serves as a means to access the value of a private or protected attribute within a class. It's essential for encapsulating access to class attributes, especially when those attributes should be accessible externally but not directly modifiable. Getter methods enforce controlled access to object attributes, enabling the implementation of rules or actions upon accessing the attribute's value. This is in line with the principle of encapsulation, which is one of the fundamental concepts of object-oriented programming."
      ],
      "metadata": {
        "id": "G0P6f3qHKVUW"
      }
    },
    {
      "cell_type": "code",
      "source": [
        "class Getter:\n",
        "\n",
        "      def __init__(self, data):\n",
        "          self.__data = data\n",
        "\n",
        "      @property\n",
        "      def access(self):\n",
        "         return self.__data\n"
      ],
      "metadata": {
        "id": "ZiCs7aLHuZQn"
      },
      "execution_count": null,
      "outputs": []
    },
    {
      "cell_type": "code",
      "source": [
        "get = Getter(\"Python\")"
      ],
      "metadata": {
        "id": "GsbEK8jxuwKK"
      },
      "execution_count": null,
      "outputs": []
    },
    {
      "cell_type": "code",
      "source": [
        "get.access"
      ],
      "metadata": {
        "colab": {
          "base_uri": "https://localhost:8080/",
          "height": 35
        },
        "id": "HqoOC881u2h-",
        "outputId": "e8ae6e7e-17f2-4191-a484-a2cd61352bc2"
      },
      "execution_count": null,
      "outputs": [
        {
          "output_type": "execute_result",
          "data": {
            "text/plain": [
              "'Python'"
            ],
            "application/vnd.google.colaboratory.intrinsic+json": {
              "type": "string"
            }
          },
          "metadata": {},
          "execution_count": 3
        }
      ]
    },
    {
      "cell_type": "markdown",
      "source": [
        "#67. Explain the role of setter methods in Python. Demonstrate how to use a setter method to modify a class attribute using property decorators.\n",
        "\n",
        "**Ans:** In Python, setter methods play a crucial role in controlling the modification of private or protected attributes within a class. They are used to set the value of these attributes while enforcing rules or performing validations, ensuring that the modifications adhere to certain criteria defined by the programmer."
      ],
      "metadata": {
        "id": "vE5fFRsCvPAo"
      }
    },
    {
      "cell_type": "code",
      "source": [
        "class Setter:\n",
        "\n",
        "      def __init__(self, data):\n",
        "          self.__data = data\n",
        "\n",
        "      @property\n",
        "      def access(self):\n",
        "          return self.__data\n",
        "\n",
        "      @access.setter\n",
        "      def modify(self, new_data):\n",
        "          self.__data = new_data"
      ],
      "metadata": {
        "id": "O25-Ilg1vuuA"
      },
      "execution_count": null,
      "outputs": []
    },
    {
      "cell_type": "code",
      "source": [
        "s = Setter(\"Python\")"
      ],
      "metadata": {
        "id": "iahhsrS1wrnI"
      },
      "execution_count": null,
      "outputs": []
    },
    {
      "cell_type": "code",
      "source": [
        "s.access"
      ],
      "metadata": {
        "colab": {
          "base_uri": "https://localhost:8080/",
          "height": 35
        },
        "id": "23vb5oiQwx3f",
        "outputId": "7e6fe4fe-6574-4b3f-8dce-4353da924273"
      },
      "execution_count": null,
      "outputs": [
        {
          "output_type": "execute_result",
          "data": {
            "text/plain": [
              "'Python'"
            ],
            "application/vnd.google.colaboratory.intrinsic+json": {
              "type": "string"
            }
          },
          "metadata": {},
          "execution_count": 6
        }
      ]
    },
    {
      "cell_type": "code",
      "source": [
        "s.modify = \"Data Science\""
      ],
      "metadata": {
        "id": "NevEwJH7w0dV"
      },
      "execution_count": null,
      "outputs": []
    },
    {
      "cell_type": "code",
      "source": [
        "s.access"
      ],
      "metadata": {
        "colab": {
          "base_uri": "https://localhost:8080/",
          "height": 35
        },
        "id": "_aIB14fDxAJF",
        "outputId": "9c7cbf1e-df59-4441-a3c9-5ca649bd2b58"
      },
      "execution_count": null,
      "outputs": [
        {
          "output_type": "execute_result",
          "data": {
            "text/plain": [
              "'Data Science'"
            ],
            "application/vnd.google.colaboratory.intrinsic+json": {
              "type": "string"
            }
          },
          "metadata": {},
          "execution_count": 9
        }
      ]
    },
    {
      "cell_type": "markdown",
      "source": [
        "#68. What is the purpose of the @property decorator in Python? Provide an example illustrating its usage.\n",
        "\n",
        "**Ans:** In Python, the @property decorator is used to define properties in a class. Properties allow you to access class attributes as if they were regular attributes, but with the flexibility of controlling the behavior when accessing or setting their values. The @property decorator allows you to define getter methods, setter methods, and deleter methods for a property."
      ],
      "metadata": {
        "id": "AEGlYUdR1TjR"
      }
    },
    {
      "cell_type": "code",
      "source": [
        "class Property:\n",
        "\n",
        "      def __init__(self, data):\n",
        "          self.__data = data\n",
        "\n",
        "      @property\n",
        "      def access(self):\n",
        "          return self.__data"
      ],
      "metadata": {
        "id": "Pvb4FuQn1vNx"
      },
      "execution_count": null,
      "outputs": []
    },
    {
      "cell_type": "code",
      "source": [
        "pro = Property(\"Aagam\")"
      ],
      "metadata": {
        "id": "QlaSl1C22BNo"
      },
      "execution_count": null,
      "outputs": []
    },
    {
      "cell_type": "code",
      "source": [
        "pro.access"
      ],
      "metadata": {
        "colab": {
          "base_uri": "https://localhost:8080/",
          "height": 35
        },
        "id": "1Y3ELA0F8jlh",
        "outputId": "27ddeaa6-ed1d-4c73-9f08-aeb66b3e1c20"
      },
      "execution_count": null,
      "outputs": [
        {
          "output_type": "execute_result",
          "data": {
            "text/plain": [
              "'Aagam'"
            ],
            "application/vnd.google.colaboratory.intrinsic+json": {
              "type": "string"
            }
          },
          "metadata": {},
          "execution_count": 20
        }
      ]
    },
    {
      "cell_type": "markdown",
      "source": [
        "#69. Explain the use of the @deleter decorator in Python property decorators. Provide a code example demonstrating its application.\n",
        "\n",
        "**Ans:**\n",
        "In Python, the @deleter decorator is used in conjunction with the @property decorator to define a deleter method for a property. Deleter methods are used to control the behavior when an attribute managed by a property is deleted using the del statement.\n"
      ],
      "metadata": {
        "id": "Xsu0x1YW9ANa"
      }
    },
    {
      "cell_type": "code",
      "source": [
        "class Deleter:\n",
        "\n",
        "      def __init__(self, data):\n",
        "          self.__data = data\n",
        "\n",
        "      @property\n",
        "      def access(self):\n",
        "          return self.__data\n",
        "\n",
        "      @access.deleter\n",
        "      def delete(self):\n",
        "          del self.__data"
      ],
      "metadata": {
        "id": "0yG1HO4q9dcK"
      },
      "execution_count": null,
      "outputs": []
    },
    {
      "cell_type": "code",
      "source": [
        "d = Deleter(\"Aagam\")"
      ],
      "metadata": {
        "id": "x9_f5sOx-KeA"
      },
      "execution_count": null,
      "outputs": []
    },
    {
      "cell_type": "code",
      "source": [
        "d.access"
      ],
      "metadata": {
        "colab": {
          "base_uri": "https://localhost:8080/",
          "height": 35
        },
        "id": "uQ52XkeY-RC5",
        "outputId": "4db1c4e4-0a24-45df-9eec-2dde56d8bd09"
      },
      "execution_count": null,
      "outputs": [
        {
          "output_type": "execute_result",
          "data": {
            "text/plain": [
              "'Aagam'"
            ],
            "application/vnd.google.colaboratory.intrinsic+json": {
              "type": "string"
            }
          },
          "metadata": {},
          "execution_count": 38
        }
      ]
    },
    {
      "cell_type": "code",
      "source": [
        "del d.delete"
      ],
      "metadata": {
        "id": "CgnclymU-jSl"
      },
      "execution_count": null,
      "outputs": []
    },
    {
      "cell_type": "code",
      "source": [
        "d.access"
      ],
      "metadata": {
        "colab": {
          "base_uri": "https://localhost:8080/",
          "height": 263
        },
        "id": "Yc6jO_tG-0t9",
        "outputId": "17ed1fc9-3206-456a-df08-f74429a09935"
      },
      "execution_count": null,
      "outputs": [
        {
          "output_type": "error",
          "ename": "AttributeError",
          "evalue": "'Deleter' object has no attribute '_Deleter__data'",
          "traceback": [
            "\u001b[0;31m---------------------------------------------------------------------------\u001b[0m",
            "\u001b[0;31mAttributeError\u001b[0m                            Traceback (most recent call last)",
            "\u001b[0;32m<ipython-input-40-b9f90b03c3d8>\u001b[0m in \u001b[0;36m<cell line: 1>\u001b[0;34m()\u001b[0m\n\u001b[0;32m----> 1\u001b[0;31m \u001b[0md\u001b[0m\u001b[0;34m.\u001b[0m\u001b[0maccess\u001b[0m\u001b[0;34m\u001b[0m\u001b[0;34m\u001b[0m\u001b[0m\n\u001b[0m",
            "\u001b[0;32m<ipython-input-31-97bcba757f26>\u001b[0m in \u001b[0;36maccess\u001b[0;34m(self)\u001b[0m\n\u001b[1;32m      6\u001b[0m       \u001b[0;34m@\u001b[0m\u001b[0mproperty\u001b[0m\u001b[0;34m\u001b[0m\u001b[0;34m\u001b[0m\u001b[0m\n\u001b[1;32m      7\u001b[0m       \u001b[0;32mdef\u001b[0m \u001b[0maccess\u001b[0m\u001b[0;34m(\u001b[0m\u001b[0mself\u001b[0m\u001b[0;34m)\u001b[0m\u001b[0;34m:\u001b[0m\u001b[0;34m\u001b[0m\u001b[0;34m\u001b[0m\u001b[0m\n\u001b[0;32m----> 8\u001b[0;31m           \u001b[0;32mreturn\u001b[0m \u001b[0mself\u001b[0m\u001b[0;34m.\u001b[0m\u001b[0m__data\u001b[0m\u001b[0;34m\u001b[0m\u001b[0;34m\u001b[0m\u001b[0m\n\u001b[0m\u001b[1;32m      9\u001b[0m \u001b[0;34m\u001b[0m\u001b[0m\n\u001b[1;32m     10\u001b[0m       \u001b[0;34m@\u001b[0m\u001b[0maccess\u001b[0m\u001b[0;34m.\u001b[0m\u001b[0mdeleter\u001b[0m\u001b[0;34m\u001b[0m\u001b[0;34m\u001b[0m\u001b[0m\n",
            "\u001b[0;31mAttributeError\u001b[0m: 'Deleter' object has no attribute '_Deleter__data'"
          ]
        }
      ]
    },
    {
      "cell_type": "markdown",
      "source": [
        "#70. How does encapsulation relate to property decorators in Python? Provide an example showcasing encapsulation using property decorators.\n",
        "\n",
        "**Ans:** Encapsulation is a fundamental principle of object-oriented programming that involves bundling the data (attributes) and methods (functions) that operate on the data into a single unit, called a class. It also involves controlling access to the data by restricting direct access from outside the class and providing controlled interfaces, typically through methods, for accessing and modifying the data. Property decorators in Python play a key role in implementing encapsulation by allowing you to define properties with getter, setter, and deleter methods, providing controlled access to class attributes."
      ],
      "metadata": {
        "id": "DCArginS_BrG"
      }
    },
    {
      "cell_type": "code",
      "source": [
        "class Person:\n",
        "\n",
        "      def __init__(self, name):\n",
        "          self.__name = name\n",
        "\n",
        "      @property\n",
        "      def access(self):\n",
        "          return self.__name\n",
        "\n",
        "      @access.setter\n",
        "      def modify(self, new_name):\n",
        "          self.__name = new_name"
      ],
      "metadata": {
        "id": "EpYy6M0tCi19"
      },
      "execution_count": null,
      "outputs": []
    },
    {
      "cell_type": "code",
      "source": [
        "per = Person(\"Rahul\")"
      ],
      "metadata": {
        "id": "jScHYu1hEvp2"
      },
      "execution_count": null,
      "outputs": []
    },
    {
      "cell_type": "code",
      "source": [
        "per.access"
      ],
      "metadata": {
        "colab": {
          "base_uri": "https://localhost:8080/",
          "height": 35
        },
        "id": "HE7iszc7E0zC",
        "outputId": "f9eb8e73-fcba-4664-faef-aa4c191e92c2"
      },
      "execution_count": null,
      "outputs": [
        {
          "output_type": "execute_result",
          "data": {
            "text/plain": [
              "'Rahul'"
            ],
            "application/vnd.google.colaboratory.intrinsic+json": {
              "type": "string"
            }
          },
          "metadata": {},
          "execution_count": 43
        }
      ]
    },
    {
      "cell_type": "code",
      "source": [
        "per.modify = \"Virat\""
      ],
      "metadata": {
        "id": "GSL54kGXE4aM"
      },
      "execution_count": null,
      "outputs": []
    },
    {
      "cell_type": "code",
      "source": [
        "per.access"
      ],
      "metadata": {
        "colab": {
          "base_uri": "https://localhost:8080/",
          "height": 35
        },
        "id": "MNceST10E9Ka",
        "outputId": "a1e247b1-a0cb-4a5d-dd37-412f36716029"
      },
      "execution_count": null,
      "outputs": [
        {
          "output_type": "execute_result",
          "data": {
            "text/plain": [
              "'Virat'"
            ],
            "application/vnd.google.colaboratory.intrinsic+json": {
              "type": "string"
            }
          },
          "metadata": {},
          "execution_count": 45
        }
      ]
    }
  ]
}